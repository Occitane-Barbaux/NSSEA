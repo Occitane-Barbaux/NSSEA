{
 "cells": [
  {
   "cell_type": "code",
   "execution_count": 7,
   "id": "c80dc371",
   "metadata": {},
   "outputs": [
    {
     "data": {
      "text/plain": [
       "'/home/barbauxo/miniconda3/envs/TestSDFC/bin/cmdstan'"
      ]
     },
     "execution_count": 7,
     "metadata": {},
     "output_type": "execute_result"
    }
   ],
   "source": [
    "import sys,os\n",
    "import numpy as np\n",
    "import pandas as pd\n",
    "import xarray as xr\n",
    "import time as tm\n",
    "\n",
    "import NSSEA as ns\n",
    "import NSSEA.plot as nsp\n",
    "import NSSEA.models as nsm\n",
    "dt_string=\"06051647\"\n",
    "from cmdstanpy import cmdstan_path, set_cmdstan_path\n",
    "#This has to be done manually ?\n",
    "set_cmdstan_path('/home/barbauxo/miniconda3/envs/TestSDFC/bin/cmdstan')\n",
    "cmdstan_path()"
   ]
  },
  {
   "cell_type": "code",
   "execution_count": 8,
   "id": "b6fd248a",
   "metadata": {},
   "outputs": [],
   "source": [
    "def load_obs(pathInp,type_data):\n",
    "    ## Load Observations\n",
    "    dXo = xr.open_dataset(os.path.join( pathInp ,\"Observations\",type_data,\"Xo.nc\"))\n",
    "    Xo  = pd.DataFrame( dXo.tas.values.squeeze() , columns = [\"Xo\"] , index = dXo.time[\"time.year\"].values )\n",
    "\n",
    "    Xo #Deja en anomalies\n",
    "    dYo = xr.open_dataset(os.path.join( pathInp ,\"Observations\",type_data,\"Yo.nc\"))\n",
    "    Yo  = pd.DataFrame( dYo.TX.values.squeeze() , columns = [\"Yo\"] , index = dYo.time[\"time.year\"].values )\n",
    "    return Xo,Yo #en celsius"
   ]
  },
  {
   "cell_type": "code",
   "execution_count": 9,
   "id": "87d241ff",
   "metadata": {},
   "outputs": [],
   "source": [
    "ns_law      = nsm.GEV()"
   ]
  },
  {
   "cell_type": "code",
   "execution_count": 10,
   "id": "22ffe724",
   "metadata": {},
   "outputs": [],
   "source": [
    "#Prepared data\n",
    "\n",
    "clim_CX=ns.Climatology.from_netcdf( \"clim_CX.nc\" , ns_law )\n",
    "\n",
    "pathInp='/home/barbauxo/Documents/Doctorat/03_Travail/2023_01 Application Tricastin/Data'\n",
    "assert(os.path.exists(pathInp))\n",
    "type_data=\"03_Post_treatment\"  #\"02_Selected\"\n",
    "Xo,Yo=load_obs(pathInp,type_data)"
   ]
  },
  {
   "cell_type": "code",
   "execution_count": 13,
   "id": "3a2654c6",
   "metadata": {},
   "outputs": [
    {
     "name": "stderr",
     "output_type": "stream",
     "text": [
      "11:18:23 - cmdstanpy - INFO - CmdStan start processing\n",
      "11:18:23 - cmdstanpy - INFO - Chain [1] start processing\n",
      "11:18:23 - cmdstanpy - INFO - Chain [2] start processing\n",
      "11:18:23 - cmdstanpy - INFO - Chain [3] start processing\n",
      "11:18:23 - cmdstanpy - INFO - Chain [4] start processing\n",
      "11:18:23 - cmdstanpy - INFO - Chain [1] done processing\n",
      "11:18:23 - cmdstanpy - INFO - Chain [3] done processing\n",
      "11:18:23 - cmdstanpy - INFO - Chain [2] done processing\n",
      "11:18:23 - cmdstanpy - INFO - Chain [4] done processing\n",
      "11:18:23 - cmdstanpy - WARNING - Non-fatal error during sampling:\n",
      "Exception: tmpnbrn9e_8_model_namespace::log_prob: xi is -4.43462, but must be greater than or equal to -1.000000 (in 'GEV_non_stationary.stan', line 36, column 2 to column 29)\n",
      "\tException: tmpnbrn9e_8_model_namespace::log_prob: xi is -1.01686, but must be greater than or equal to -1.000000 (in 'GEV_non_stationary.stan', line 36, column 2 to column 29)\n",
      "\tException: tmpnbrn9e_8_model_namespace::log_prob: xi is 1.11148, but must be less than or equal to 1.000000 (in 'GEV_non_stationary.stan', line 36, column 2 to column 29)\n",
      "\tException: tmpnbrn9e_8_model_namespace::log_prob: xi is 1.10445, but must be less than or equal to 1.000000 (in 'GEV_non_stationary.stan', line 36, column 2 to column 29)\n",
      "\tException: tmpnbrn9e_8_model_namespace::log_prob: xi is 1.02791, but must be less than or equal to 1.000000 (in 'GEV_non_stationary.stan', line 36, column 2 to column 29)\n",
      "Exception: tmpnbrn9e_8_model_namespace::log_prob: xi is 1.03417, but must be less than or equal to 1.000000 (in 'GEV_non_stationary.stan', line 36, column 2 to column 29)\n",
      "\tException: tmpnbrn9e_8_model_namespace::log_prob: xi is 1.53953, but must be less than or equal to 1.000000 (in 'GEV_non_stationary.stan', line 36, column 2 to column 29)\n",
      "\tException: tmpnbrn9e_8_model_namespace::log_prob: xi is 1.43983, but must be less than or equal to 1.000000 (in 'GEV_non_stationary.stan', line 36, column 2 to column 29)\n",
      "Consider re-running with show_console=True if the above output is unclear!\n",
      "11:18:23 - cmdstanpy - WARNING - Some chains may have failed to converge.\n",
      "\tChain 1 had 1 divergent transitions (4.0%)\n",
      "\tUse the \"diagnose()\" method on the CmdStanMCMC object to see further information.\n"
     ]
    },
    {
     "name": "stdout",
     "output_type": "stream",
     "text": [
      "S00\n",
      "S01\n"
     ]
    },
    {
     "name": "stderr",
     "output_type": "stream",
     "text": [
      "11:18:23 - cmdstanpy - INFO - CmdStan start processing\n",
      "11:18:23 - cmdstanpy - INFO - Chain [1] start processing\n",
      "11:18:23 - cmdstanpy - INFO - Chain [2] start processing\n",
      "11:18:23 - cmdstanpy - INFO - Chain [3] start processing\n",
      "11:18:23 - cmdstanpy - INFO - Chain [4] start processing\n",
      "11:18:23 - cmdstanpy - INFO - Chain [1] done processing\n",
      "11:18:23 - cmdstanpy - INFO - Chain [4] done processing\n",
      "11:18:23 - cmdstanpy - INFO - Chain [2] done processing\n",
      "11:18:23 - cmdstanpy - INFO - Chain [3] done processing\n",
      "11:18:23 - cmdstanpy - WARNING - Non-fatal error during sampling:\n",
      "Exception: tmpnbrn9e_8_model_namespace::log_prob: xi is -5.32881, but must be greater than or equal to -1.000000 (in 'GEV_non_stationary.stan', line 36, column 2 to column 29)\n",
      "\tException: tmpnbrn9e_8_model_namespace::log_prob: xi is -1.25956, but must be greater than or equal to -1.000000 (in 'GEV_non_stationary.stan', line 36, column 2 to column 29)\n",
      "\tException: tmpnbrn9e_8_model_namespace::log_prob: xi is -1.19816, but must be greater than or equal to -1.000000 (in 'GEV_non_stationary.stan', line 36, column 2 to column 29)\n",
      "Exception: tmpnbrn9e_8_model_namespace::log_prob: xi is -2.29927, but must be greater than or equal to -1.000000 (in 'GEV_non_stationary.stan', line 36, column 2 to column 29)\n",
      "\tException: tmpnbrn9e_8_model_namespace::log_prob: xi is 2.09027, but must be less than or equal to 1.000000 (in 'GEV_non_stationary.stan', line 36, column 2 to column 29)\n",
      "\tException: tmpnbrn9e_8_model_namespace::log_prob: xi is -1.91461, but must be greater than or equal to -1.000000 (in 'GEV_non_stationary.stan', line 36, column 2 to column 29)\n",
      "Exception: tmpnbrn9e_8_model_namespace::log_prob: xi is -7.8422, but must be greater than or equal to -1.000000 (in 'GEV_non_stationary.stan', line 36, column 2 to column 29)\n",
      "\tException: tmpnbrn9e_8_model_namespace::log_prob: xi is -4.45573, but must be greater than or equal to -1.000000 (in 'GEV_non_stationary.stan', line 36, column 2 to column 29)\n",
      "\tException: tmpnbrn9e_8_model_namespace::log_prob: xi is -1.03369, but must be greater than or equal to -1.000000 (in 'GEV_non_stationary.stan', line 36, column 2 to column 29)\n",
      "Exception: tmpnbrn9e_8_model_namespace::log_prob: xi is -1.37626, but must be greater than or equal to -1.000000 (in 'GEV_non_stationary.stan', line 36, column 2 to column 29)\n",
      "Consider re-running with show_console=True if the above output is unclear!\n",
      "11:18:23 - cmdstanpy - WARNING - Some chains may have failed to converge.\n",
      "\tChain 3 had 1 divergent transitions (4.0%)\n",
      "\tChain 4 had 1 divergent transitions (4.0%)\n",
      "\tUse the \"diagnose()\" method on the CmdStanMCMC object to see further information.\n",
      "11:18:23 - cmdstanpy - INFO - CmdStan start processing\n",
      "11:18:23 - cmdstanpy - INFO - Chain [1] start processing\n",
      "11:18:23 - cmdstanpy - INFO - Chain [2] start processing\n",
      "11:18:23 - cmdstanpy - INFO - Chain [3] start processing\n",
      "11:18:23 - cmdstanpy - INFO - Chain [4] start processing\n",
      "11:18:23 - cmdstanpy - INFO - Chain [1] done processing\n",
      "11:18:23 - cmdstanpy - INFO - Chain [2] done processing\n"
     ]
    },
    {
     "name": "stdout",
     "output_type": "stream",
     "text": [
      "S02\n"
     ]
    },
    {
     "name": "stderr",
     "output_type": "stream",
     "text": [
      "11:18:23 - cmdstanpy - INFO - Chain [3] done processing\n",
      "11:18:23 - cmdstanpy - INFO - Chain [4] done processing\n",
      "11:18:23 - cmdstanpy - WARNING - Non-fatal error during sampling:\n",
      "Exception: tmpnbrn9e_8_model_namespace::log_prob: xi is -1.35066, but must be greater than or equal to -1.000000 (in 'GEV_non_stationary.stan', line 36, column 2 to column 29)\n",
      "\tException: tmpnbrn9e_8_model_namespace::log_prob: xi is -1.22914, but must be greater than or equal to -1.000000 (in 'GEV_non_stationary.stan', line 36, column 2 to column 29)\n",
      "\tException: tmpnbrn9e_8_model_namespace::log_prob: xi is -3.30187, but must be greater than or equal to -1.000000 (in 'GEV_non_stationary.stan', line 36, column 2 to column 29)\n",
      "\tException: tmpnbrn9e_8_model_namespace::log_prob: xi is 1.28164, but must be less than or equal to 1.000000 (in 'GEV_non_stationary.stan', line 36, column 2 to column 29)\n",
      "\tException: tmpnbrn9e_8_model_namespace::log_prob: xi is 1.378, but must be less than or equal to 1.000000 (in 'GEV_non_stationary.stan', line 36, column 2 to column 29)\n",
      "Exception: tmpnbrn9e_8_model_namespace::log_prob: xi is -2.43593, but must be greater than or equal to -1.000000 (in 'GEV_non_stationary.stan', line 36, column 2 to column 29)\n",
      "\tException: tmpnbrn9e_8_model_namespace::log_prob: xi is 3.24968, but must be less than or equal to 1.000000 (in 'GEV_non_stationary.stan', line 36, column 2 to column 29)\n",
      "Exception: tmpnbrn9e_8_model_namespace::log_prob: xi is -1.51691, but must be greater than or equal to -1.000000 (in 'GEV_non_stationary.stan', line 36, column 2 to column 29)\n",
      "\tException: tmpnbrn9e_8_model_namespace::log_prob: xi is -1.0488, but must be greater than or equal to -1.000000 (in 'GEV_non_stationary.stan', line 36, column 2 to column 29)\n",
      "\tException: tmpnbrn9e_8_model_namespace::log_prob: xi is -1.92442, but must be greater than or equal to -1.000000 (in 'GEV_non_stationary.stan', line 36, column 2 to column 29)\n",
      "Consider re-running with show_console=True if the above output is unclear!\n",
      "11:18:23 - cmdstanpy - WARNING - Some chains may have failed to converge.\n",
      "\tChain 1 had 1 divergent transitions (4.0%)\n",
      "\tChain 3 had 1 divergent transitions (4.0%)\n",
      "\tChain 4 had 1 divergent transitions (4.0%)\n",
      "\tUse the \"diagnose()\" method on the CmdStanMCMC object to see further information.\n",
      "11:18:23 - cmdstanpy - INFO - CmdStan start processing\n",
      "11:18:23 - cmdstanpy - INFO - Chain [1] start processing\n",
      "11:18:23 - cmdstanpy - INFO - Chain [2] start processing\n",
      "11:18:23 - cmdstanpy - INFO - Chain [3] start processing\n",
      "11:18:23 - cmdstanpy - INFO - Chain [4] start processing\n",
      "11:18:24 - cmdstanpy - INFO - Chain [1] done processing\n",
      "11:18:24 - cmdstanpy - INFO - Chain [2] done processing\n",
      "11:18:24 - cmdstanpy - INFO - Chain [3] done processing\n",
      "11:18:24 - cmdstanpy - INFO - Chain [4] done processing\n",
      "11:18:24 - cmdstanpy - WARNING - Non-fatal error during sampling:\n",
      "Exception: tmpnbrn9e_8_model_namespace::log_prob: xi is 1.07037, but must be less than or equal to 1.000000 (in 'GEV_non_stationary.stan', line 36, column 2 to column 29)\n",
      "\tException: tmpnbrn9e_8_model_namespace::log_prob: xi is 1.76317, but must be less than or equal to 1.000000 (in 'GEV_non_stationary.stan', line 36, column 2 to column 29)\n",
      "\tException: tmpnbrn9e_8_model_namespace::log_prob: xi is 1.55875, but must be less than or equal to 1.000000 (in 'GEV_non_stationary.stan', line 36, column 2 to column 29)\n",
      "\tException: tmpnbrn9e_8_model_namespace::log_prob: xi is -1.25715, but must be greater than or equal to -1.000000 (in 'GEV_non_stationary.stan', line 36, column 2 to column 29)\n",
      "Exception: tmpnbrn9e_8_model_namespace::log_prob: xi is 4.14671, but must be less than or equal to 1.000000 (in 'GEV_non_stationary.stan', line 36, column 2 to column 29)\n",
      "\tException: tmpnbrn9e_8_model_namespace::log_prob: xi is -1.81977, but must be greater than or equal to -1.000000 (in 'GEV_non_stationary.stan', line 36, column 2 to column 29)\n",
      "Exception: tmpnbrn9e_8_model_namespace::log_prob: xi is -6.88162, but must be greater than or equal to -1.000000 (in 'GEV_non_stationary.stan', line 36, column 2 to column 29)\n",
      "\tException: tmpnbrn9e_8_model_namespace::log_prob: xi is -1.16423, but must be greater than or equal to -1.000000 (in 'GEV_non_stationary.stan', line 36, column 2 to column 29)\n",
      "\tException: tmpnbrn9e_8_model_namespace::log_prob: xi is -5.09781, but must be greater than or equal to -1.000000 (in 'GEV_non_stationary.stan', line 36, column 2 to column 29)\n",
      "Consider re-running with show_console=True if the above output is unclear!\n",
      "11:18:24 - cmdstanpy - WARNING - Some chains may have failed to converge.\n",
      "\tChain 4 had 1 divergent transitions (4.0%)\n",
      "\tUse the \"diagnose()\" method on the CmdStanMCMC object to see further information.\n"
     ]
    },
    {
     "name": "stdout",
     "output_type": "stream",
     "text": [
      "S03\n",
      "S04\n"
     ]
    },
    {
     "name": "stderr",
     "output_type": "stream",
     "text": [
      "11:18:24 - cmdstanpy - INFO - CmdStan start processing\n",
      "11:18:24 - cmdstanpy - INFO - Chain [1] start processing\n",
      "11:18:24 - cmdstanpy - INFO - Chain [2] start processing\n",
      "11:18:24 - cmdstanpy - INFO - Chain [3] start processing\n",
      "11:18:24 - cmdstanpy - INFO - Chain [4] start processing\n",
      "11:18:24 - cmdstanpy - INFO - Chain [1] done processing\n",
      "11:18:24 - cmdstanpy - INFO - Chain [3] done processing\n",
      "11:18:24 - cmdstanpy - INFO - Chain [4] done processing\n",
      "11:18:24 - cmdstanpy - INFO - Chain [2] done processing\n",
      "11:18:24 - cmdstanpy - WARNING - Non-fatal error during sampling:\n",
      "Exception: tmpnbrn9e_8_model_namespace::log_prob: xi is 6.08018, but must be less than or equal to 1.000000 (in 'GEV_non_stationary.stan', line 36, column 2 to column 29)\n",
      "\tException: tmpnbrn9e_8_model_namespace::log_prob: xi is -1.28742, but must be greater than or equal to -1.000000 (in 'GEV_non_stationary.stan', line 36, column 2 to column 29)\n",
      "Exception: tmpnbrn9e_8_model_namespace::log_prob: xi is -4.39758, but must be greater than or equal to -1.000000 (in 'GEV_non_stationary.stan', line 36, column 2 to column 29)\n",
      "\tException: tmpnbrn9e_8_model_namespace::log_prob: xi is 1.41952, but must be less than or equal to 1.000000 (in 'GEV_non_stationary.stan', line 36, column 2 to column 29)\n",
      "\tException: tmpnbrn9e_8_model_namespace::log_prob: xi is -1.66284, but must be greater than or equal to -1.000000 (in 'GEV_non_stationary.stan', line 36, column 2 to column 29)\n",
      "Exception: tmpnbrn9e_8_model_namespace::log_prob: xi is -2.04484, but must be greater than or equal to -1.000000 (in 'GEV_non_stationary.stan', line 36, column 2 to column 29)\n",
      "Exception: tmpnbrn9e_8_model_namespace::log_prob: xi is 3.10849, but must be less than or equal to 1.000000 (in 'GEV_non_stationary.stan', line 36, column 2 to column 29)\n",
      "Consider re-running with show_console=True if the above output is unclear!\n",
      "11:18:24 - cmdstanpy - WARNING - Some chains may have failed to converge.\n",
      "\tChain 4 had 1 divergent transitions (4.0%)\n",
      "\tUse the \"diagnose()\" method on the CmdStanMCMC object to see further information.\n",
      "11:18:24 - cmdstanpy - INFO - CmdStan start processing\n",
      "11:18:24 - cmdstanpy - INFO - Chain [1] start processing\n",
      "11:18:24 - cmdstanpy - INFO - Chain [2] start processing\n",
      "11:18:24 - cmdstanpy - INFO - Chain [3] start processing\n",
      "11:18:24 - cmdstanpy - INFO - Chain [4] start processing\n",
      "11:18:24 - cmdstanpy - INFO - Chain [2] done processing\n",
      "11:18:24 - cmdstanpy - INFO - Chain [3] done processing\n",
      "11:18:24 - cmdstanpy - INFO - Chain [1] done processing\n",
      "11:18:24 - cmdstanpy - INFO - Chain [4] done processing\n",
      "11:18:24 - cmdstanpy - WARNING - Non-fatal error during sampling:\n",
      "Exception: tmpnbrn9e_8_model_namespace::log_prob: xi is 1.6771, but must be less than or equal to 1.000000 (in 'GEV_non_stationary.stan', line 36, column 2 to column 29)\n",
      "\tException: tmpnbrn9e_8_model_namespace::log_prob: xi is -1.14983, but must be greater than or equal to -1.000000 (in 'GEV_non_stationary.stan', line 36, column 2 to column 29)\n",
      "Exception: tmpnbrn9e_8_model_namespace::log_prob: xi is 1.94891, but must be less than or equal to 1.000000 (in 'GEV_non_stationary.stan', line 36, column 2 to column 29)\n",
      "\tException: tmpnbrn9e_8_model_namespace::log_prob: xi is -1.58055, but must be greater than or equal to -1.000000 (in 'GEV_non_stationary.stan', line 36, column 2 to column 29)\n",
      "Exception: tmpnbrn9e_8_model_namespace::log_prob: xi is 2.30888, but must be less than or equal to 1.000000 (in 'GEV_non_stationary.stan', line 36, column 2 to column 29)\n",
      "\tException: tmpnbrn9e_8_model_namespace::log_prob: xi is 1.08817, but must be less than or equal to 1.000000 (in 'GEV_non_stationary.stan', line 36, column 2 to column 29)\n",
      "Exception: tmpnbrn9e_8_model_namespace::log_prob: xi is 1.77239, but must be less than or equal to 1.000000 (in 'GEV_non_stationary.stan', line 36, column 2 to column 29)\n",
      "\tException: tmpnbrn9e_8_model_namespace::log_prob: xi is -2.24624, but must be greater than or equal to -1.000000 (in 'GEV_non_stationary.stan', line 36, column 2 to column 29)\n",
      "Consider re-running with show_console=True if the above output is unclear!\n",
      "11:18:24 - cmdstanpy - WARNING - Some chains may have failed to converge.\n",
      "\tChain 2 had 2 divergent transitions (8.0%)\n",
      "\tUse the \"diagnose()\" method on the CmdStanMCMC object to see further information.\n"
     ]
    },
    {
     "name": "stdout",
     "output_type": "stream",
     "text": [
      "S05\n"
     ]
    },
    {
     "name": "stderr",
     "output_type": "stream",
     "text": [
      "11:18:24 - cmdstanpy - INFO - CmdStan start processing\n",
      "11:18:24 - cmdstanpy - INFO - Chain [1] start processing\n",
      "11:18:24 - cmdstanpy - INFO - Chain [2] start processing\n",
      "11:18:24 - cmdstanpy - INFO - Chain [3] start processing\n",
      "11:18:24 - cmdstanpy - INFO - Chain [4] start processing\n",
      "11:18:24 - cmdstanpy - INFO - Chain [3] done processing\n",
      "11:18:24 - cmdstanpy - INFO - Chain [2] done processing\n",
      "11:18:24 - cmdstanpy - INFO - Chain [1] done processing\n"
     ]
    },
    {
     "name": "stdout",
     "output_type": "stream",
     "text": [
      "S06\n"
     ]
    },
    {
     "name": "stderr",
     "output_type": "stream",
     "text": [
      "11:18:24 - cmdstanpy - INFO - Chain [4] done processing\n",
      "11:18:24 - cmdstanpy - WARNING - Non-fatal error during sampling:\n",
      "Exception: tmpnbrn9e_8_model_namespace::log_prob: xi is 3.74167, but must be less than or equal to 1.000000 (in 'GEV_non_stationary.stan', line 36, column 2 to column 29)\n",
      "\tException: tmpnbrn9e_8_model_namespace::log_prob: xi is -1.21258, but must be greater than or equal to -1.000000 (in 'GEV_non_stationary.stan', line 36, column 2 to column 29)\n",
      "Exception: tmpnbrn9e_8_model_namespace::log_prob: xi is -5.10704, but must be greater than or equal to -1.000000 (in 'GEV_non_stationary.stan', line 36, column 2 to column 29)\n",
      "\tException: tmpnbrn9e_8_model_namespace::log_prob: xi is -2.01238, but must be greater than or equal to -1.000000 (in 'GEV_non_stationary.stan', line 36, column 2 to column 29)\n",
      "\tException: tmpnbrn9e_8_model_namespace::log_prob: xi is 1.12914, but must be less than or equal to 1.000000 (in 'GEV_non_stationary.stan', line 36, column 2 to column 29)\n",
      "\tException: tmpnbrn9e_8_model_namespace::log_prob: xi is -1.96851, but must be greater than or equal to -1.000000 (in 'GEV_non_stationary.stan', line 36, column 2 to column 29)\n",
      "Exception: tmpnbrn9e_8_model_namespace::log_prob: xi is 2.21536, but must be less than or equal to 1.000000 (in 'GEV_non_stationary.stan', line 36, column 2 to column 29)\n",
      "Exception: tmpnbrn9e_8_model_namespace::log_prob: xi is -1.46344, but must be greater than or equal to -1.000000 (in 'GEV_non_stationary.stan', line 36, column 2 to column 29)\n",
      "Consider re-running with show_console=True if the above output is unclear!\n",
      "11:18:24 - cmdstanpy - WARNING - Some chains may have failed to converge.\n",
      "\tChain 1 had 1 divergent transitions (4.0%)\n",
      "\tChain 2 had 1 divergent transitions (4.0%)\n",
      "\tUse the \"diagnose()\" method on the CmdStanMCMC object to see further information.\n",
      "11:18:24 - cmdstanpy - INFO - CmdStan start processing\n",
      "11:18:24 - cmdstanpy - INFO - Chain [1] start processing\n",
      "11:18:24 - cmdstanpy - INFO - Chain [2] start processing\n",
      "11:18:24 - cmdstanpy - INFO - Chain [3] start processing\n",
      "11:18:24 - cmdstanpy - INFO - Chain [4] start processing\n",
      "11:18:24 - cmdstanpy - INFO - Chain [1] done processing\n",
      "11:18:24 - cmdstanpy - INFO - Chain [4] done processing\n",
      "11:18:24 - cmdstanpy - INFO - Chain [2] done processing\n",
      "11:18:24 - cmdstanpy - INFO - Chain [3] done processing\n"
     ]
    },
    {
     "name": "stdout",
     "output_type": "stream",
     "text": [
      "S07\n"
     ]
    },
    {
     "name": "stderr",
     "output_type": "stream",
     "text": [
      "11:18:24 - cmdstanpy - WARNING - Non-fatal error during sampling:\n",
      "Exception: tmpnbrn9e_8_model_namespace::log_prob: xi is 20.7033, but must be less than or equal to 1.000000 (in 'GEV_non_stationary.stan', line 36, column 2 to column 29)\n",
      "\tException: tmpnbrn9e_8_model_namespace::log_prob: xi is -1.06831, but must be greater than or equal to -1.000000 (in 'GEV_non_stationary.stan', line 36, column 2 to column 29)\n",
      "\tException: tmpnbrn9e_8_model_namespace::log_prob: xi is 4.17504, but must be less than or equal to 1.000000 (in 'GEV_non_stationary.stan', line 36, column 2 to column 29)\n",
      "Exception: tmpnbrn9e_8_model_namespace::log_prob: xi is 4.45414, but must be less than or equal to 1.000000 (in 'GEV_non_stationary.stan', line 36, column 2 to column 29)\n",
      "\tException: tmpnbrn9e_8_model_namespace::log_prob: xi is -2.81342, but must be greater than or equal to -1.000000 (in 'GEV_non_stationary.stan', line 36, column 2 to column 29)\n",
      "\tException: tmpnbrn9e_8_model_namespace::log_prob: xi is -4.83644, but must be greater than or equal to -1.000000 (in 'GEV_non_stationary.stan', line 36, column 2 to column 29)\n",
      "\tException: tmpnbrn9e_8_model_namespace::log_prob: xi is 1.02141, but must be less than or equal to 1.000000 (in 'GEV_non_stationary.stan', line 36, column 2 to column 29)\n",
      "\tException: tmpnbrn9e_8_model_namespace::log_prob: xi is 1.0461, but must be less than or equal to 1.000000 (in 'GEV_non_stationary.stan', line 36, column 2 to column 29)\n",
      "Exception: tmpnbrn9e_8_model_namespace::log_prob: xi is -12.09, but must be greater than or equal to -1.000000 (in 'GEV_non_stationary.stan', line 36, column 2 to column 29)\n",
      "\tException: tmpnbrn9e_8_model_namespace::log_prob: xi is 1.33914, but must be less than or equal to 1.000000 (in 'GEV_non_stationary.stan', line 36, column 2 to column 29)\n",
      "\tException: tmpnbrn9e_8_model_namespace::log_prob: xi is -1.34215, but must be greater than or equal to -1.000000 (in 'GEV_non_stationary.stan', line 36, column 2 to column 29)\n",
      "\tException: tmpnbrn9e_8_model_namespace::log_prob: xi is -2.48799, but must be greater than or equal to -1.000000 (in 'GEV_non_stationary.stan', line 36, column 2 to column 29)\n",
      "\tException: tmpnbrn9e_8_model_namespace::log_prob: xi is -1.66993, but must be greater than or equal to -1.000000 (in 'GEV_non_stationary.stan', line 36, column 2 to column 29)\n",
      "Exception: tmpnbrn9e_8_model_namespace::log_prob: xi is -4.60085, but must be greater than or equal to -1.000000 (in 'GEV_non_stationary.stan', line 36, column 2 to column 29)\n",
      "\tException: tmpnbrn9e_8_model_namespace::log_prob: xi is -3.01694, but must be greater than or equal to -1.000000 (in 'GEV_non_stationary.stan', line 36, column 2 to column 29)\n",
      "\tException: tmpnbrn9e_8_model_namespace::log_prob: xi is 1.42134, but must be less than or equal to 1.000000 (in 'GEV_non_stationary.stan', line 36, column 2 to column 29)\n",
      "\tException: tmpnbrn9e_8_model_namespace::log_prob: xi is 2.16176, but must be less than or equal to 1.000000 (in 'GEV_non_stationary.stan', line 36, column 2 to column 29)\n",
      "Consider re-running with show_console=True if the above output is unclear!\n",
      "11:18:24 - cmdstanpy - WARNING - Some chains may have failed to converge.\n",
      "\tChain 2 had 1 divergent transitions (4.0%)\n",
      "\tUse the \"diagnose()\" method on the CmdStanMCMC object to see further information.\n",
      "11:18:24 - cmdstanpy - INFO - CmdStan start processing\n",
      "11:18:24 - cmdstanpy - INFO - Chain [1] start processing\n",
      "11:18:24 - cmdstanpy - INFO - Chain [2] start processing\n",
      "11:18:24 - cmdstanpy - INFO - Chain [3] start processing\n",
      "11:18:24 - cmdstanpy - INFO - Chain [4] start processing\n",
      "11:18:25 - cmdstanpy - INFO - Chain [1] done processing\n",
      "11:18:25 - cmdstanpy - INFO - Chain [4] done processing\n",
      "11:18:25 - cmdstanpy - INFO - Chain [2] done processing\n",
      "11:18:25 - cmdstanpy - INFO - Chain [3] done processing\n"
     ]
    },
    {
     "name": "stdout",
     "output_type": "stream",
     "text": [
      "S08\n"
     ]
    },
    {
     "name": "stderr",
     "output_type": "stream",
     "text": [
      "11:18:25 - cmdstanpy - WARNING - Non-fatal error during sampling:\n",
      "Exception: tmpnbrn9e_8_model_namespace::log_prob: xi is -1.60631, but must be greater than or equal to -1.000000 (in 'GEV_non_stationary.stan', line 36, column 2 to column 29)\n",
      "\tException: tmpnbrn9e_8_model_namespace::log_prob: xi is 3.58463, but must be less than or equal to 1.000000 (in 'GEV_non_stationary.stan', line 36, column 2 to column 29)\n",
      "\tException: tmpnbrn9e_8_model_namespace::log_prob: xi is 3.03733, but must be less than or equal to 1.000000 (in 'GEV_non_stationary.stan', line 36, column 2 to column 29)\n",
      "\tException: tmpnbrn9e_8_model_namespace::log_prob: xi is 1.31483, but must be less than or equal to 1.000000 (in 'GEV_non_stationary.stan', line 36, column 2 to column 29)\n",
      "Exception: tmpnbrn9e_8_model_namespace::log_prob: xi is -1.84717, but must be greater than or equal to -1.000000 (in 'GEV_non_stationary.stan', line 36, column 2 to column 29)\n",
      "\tException: tmpnbrn9e_8_model_namespace::log_prob: xi is -1.88928, but must be greater than or equal to -1.000000 (in 'GEV_non_stationary.stan', line 36, column 2 to column 29)\n",
      "Exception: tmpnbrn9e_8_model_namespace::log_prob: xi is 1.61456, but must be less than or equal to 1.000000 (in 'GEV_non_stationary.stan', line 36, column 2 to column 29)\n",
      "\tException: tmpnbrn9e_8_model_namespace::log_prob: xi is 1.00641, but must be less than or equal to 1.000000 (in 'GEV_non_stationary.stan', line 36, column 2 to column 29)\n",
      "Exception: tmpnbrn9e_8_model_namespace::log_prob: xi is -1.39551, but must be greater than or equal to -1.000000 (in 'GEV_non_stationary.stan', line 36, column 2 to column 29)\n",
      "Consider re-running with show_console=True if the above output is unclear!\n",
      "11:18:25 - cmdstanpy - WARNING - Some chains may have failed to converge.\n",
      "\tChain 3 had 1 divergent transitions (4.0%)\n",
      "\tChain 4 had 2 divergent transitions (8.0%)\n",
      "\tUse the \"diagnose()\" method on the CmdStanMCMC object to see further information.\n",
      "11:18:25 - cmdstanpy - INFO - CmdStan start processing\n",
      "11:18:25 - cmdstanpy - INFO - Chain [1] start processing\n",
      "11:18:25 - cmdstanpy - INFO - Chain [2] start processing\n",
      "11:18:25 - cmdstanpy - INFO - Chain [3] start processing\n",
      "11:18:25 - cmdstanpy - INFO - Chain [4] start processing\n",
      "11:18:25 - cmdstanpy - INFO - Chain [1] done processing\n",
      "11:18:25 - cmdstanpy - INFO - Chain [2] done processing\n",
      "11:18:25 - cmdstanpy - INFO - Chain [3] done processing\n",
      "11:18:25 - cmdstanpy - INFO - Chain [4] done processing\n",
      "11:18:25 - cmdstanpy - WARNING - Non-fatal error during sampling:\n",
      "Exception: tmpnbrn9e_8_model_namespace::log_prob: xi is 7.73435, but must be less than or equal to 1.000000 (in 'GEV_non_stationary.stan', line 36, column 2 to column 29)\n",
      "\tException: tmpnbrn9e_8_model_namespace::log_prob: xi is 1.51703, but must be less than or equal to 1.000000 (in 'GEV_non_stationary.stan', line 36, column 2 to column 29)\n",
      "\tException: tmpnbrn9e_8_model_namespace::log_prob: xi is 1.44173, but must be less than or equal to 1.000000 (in 'GEV_non_stationary.stan', line 36, column 2 to column 29)\n",
      "Exception: tmpnbrn9e_8_model_namespace::log_prob: xi is -1.40248, but must be greater than or equal to -1.000000 (in 'GEV_non_stationary.stan', line 36, column 2 to column 29)\n",
      "\tException: tmpnbrn9e_8_model_namespace::log_prob: xi is -1.6631, but must be greater than or equal to -1.000000 (in 'GEV_non_stationary.stan', line 36, column 2 to column 29)\n",
      "\tException: tmpnbrn9e_8_model_namespace::log_prob: xi is 1.38255, but must be less than or equal to 1.000000 (in 'GEV_non_stationary.stan', line 36, column 2 to column 29)\n",
      "\tException: tmpnbrn9e_8_model_namespace::log_prob: xi is -2.71107, but must be greater than or equal to -1.000000 (in 'GEV_non_stationary.stan', line 36, column 2 to column 29)\n",
      "\tException: tmpnbrn9e_8_model_namespace::log_prob: xi is 5.5399, but must be less than or equal to 1.000000 (in 'GEV_non_stationary.stan', line 36, column 2 to column 29)\n",
      "Exception: tmpnbrn9e_8_model_namespace::log_prob: xi is -1.36947, but must be greater than or equal to -1.000000 (in 'GEV_non_stationary.stan', line 36, column 2 to column 29)\n",
      "\tException: tmpnbrn9e_8_model_namespace::log_prob: xi is -3.77795, but must be greater than or equal to -1.000000 (in 'GEV_non_stationary.stan', line 36, column 2 to column 29)\n",
      "\tException: tmpnbrn9e_8_model_namespace::log_prob: xi is 1.43156, but must be less than or equal to 1.000000 (in 'GEV_non_stationary.stan', line 36, column 2 to column 29)\n",
      "\tException: tmpnbrn9e_8_model_namespace::log_prob: xi is -2.0087, but must be greater than or equal to -1.000000 (in 'GEV_non_stationary.stan', line 36, column 2 to column 29)\n",
      "Exception: tmpnbrn9e_8_model_namespace::log_prob: xi is 2.57722, but must be less than or equal to 1.000000 (in 'GEV_non_stationary.stan', line 36, column 2 to column 29)\n",
      "\tException: tmpnbrn9e_8_model_namespace::log_prob: xi is 1.09684, but must be less than or equal to 1.000000 (in 'GEV_non_stationary.stan', line 36, column 2 to column 29)\n",
      "\tException: tmpnbrn9e_8_model_namespace::log_prob: xi is 1.04234, but must be less than or equal to 1.000000 (in 'GEV_non_stationary.stan', line 36, column 2 to column 29)\n",
      "Consider re-running with show_console=True if the above output is unclear!\n"
     ]
    },
    {
     "name": "stdout",
     "output_type": "stream",
     "text": [
      "S09\n",
      "2.371900796890259\n"
     ]
    }
   ],
   "source": [
    "bayes_kwargs = { \"n_ess\"   : int(10000/(len(clim_CX.data.sample)-1))   } #Ici produit 10000 tirages en tout\n",
    "t0 = tm.time()\n",
    "climCXCB_stan_light=ns.stan_constrain(clim_CX,Yo,'stan_files/GEV_non_stationary.stan', **bayes_kwargs)\n",
    "t1 = tm.time()\n",
    "total = t1-t0\n",
    "print(total)\n",
    "climCXCB_stan_light.to_netcdf( (\"clim_CXCB_stan.nc\")  ) "
   ]
  },
  {
   "cell_type": "code",
   "execution_count": 20,
   "id": "126be21d",
   "metadata": {},
   "outputs": [
    {
     "name": "stderr",
     "output_type": "stream",
     "text": [
      "11:21:11 - cmdstanpy - INFO - CmdStan start processing\n",
      "11:21:11 - cmdstanpy - INFO - Chain [1] start processing\n",
      "11:21:11 - cmdstanpy - INFO - Chain [2] start processing\n",
      "11:21:11 - cmdstanpy - INFO - Chain [3] start processing\n",
      "11:21:11 - cmdstanpy - INFO - Chain [4] start processing\n",
      "11:21:11 - cmdstanpy - INFO - Chain [1] done processing\n",
      "11:21:11 - cmdstanpy - INFO - Chain [4] done processing\n"
     ]
    },
    {
     "name": "stdout",
     "output_type": "stream",
     "text": [
      "S00\n"
     ]
    },
    {
     "name": "stderr",
     "output_type": "stream",
     "text": [
      "11:21:11 - cmdstanpy - INFO - Chain [2] done processing\n",
      "11:21:11 - cmdstanpy - INFO - Chain [3] done processing\n",
      "11:21:11 - cmdstanpy - WARNING - Non-fatal error during sampling:\n",
      "Exception: tmpnbrn9e_8_model_namespace::log_prob: xi is -12.84, but must be greater than or equal to -1.000000 (in 'GEV_non_stationary.stan', line 36, column 2 to column 29)\n",
      "\tException: tmpnbrn9e_8_model_namespace::log_prob: xi is 2.59021, but must be less than or equal to 1.000000 (in 'GEV_non_stationary.stan', line 36, column 2 to column 29)\n",
      "\tException: tmpnbrn9e_8_model_namespace::log_prob: xi is -2.91177, but must be greater than or equal to -1.000000 (in 'GEV_non_stationary.stan', line 36, column 2 to column 29)\n",
      "\tException: tmpnbrn9e_8_model_namespace::log_prob: xi is -1.01055, but must be greater than or equal to -1.000000 (in 'GEV_non_stationary.stan', line 36, column 2 to column 29)\n",
      "\tException: tmpnbrn9e_8_model_namespace::log_prob: xi is 1.05631, but must be less than or equal to 1.000000 (in 'GEV_non_stationary.stan', line 36, column 2 to column 29)\n",
      "Exception: tmpnbrn9e_8_model_namespace::log_prob: xi is -3.87463, but must be greater than or equal to -1.000000 (in 'GEV_non_stationary.stan', line 36, column 2 to column 29)\n",
      "\tException: tmpnbrn9e_8_model_namespace::log_prob: xi is -1.68539, but must be greater than or equal to -1.000000 (in 'GEV_non_stationary.stan', line 36, column 2 to column 29)\n",
      "\tException: tmpnbrn9e_8_model_namespace::log_prob: xi is -3.99754, but must be greater than or equal to -1.000000 (in 'GEV_non_stationary.stan', line 36, column 2 to column 29)\n",
      "Exception: tmpnbrn9e_8_model_namespace::log_prob: xi is 7.13592, but must be less than or equal to 1.000000 (in 'GEV_non_stationary.stan', line 36, column 2 to column 29)\n",
      "\tException: tmpnbrn9e_8_model_namespace::log_prob: xi is -1.08978, but must be greater than or equal to -1.000000 (in 'GEV_non_stationary.stan', line 36, column 2 to column 29)\n",
      "\tException: tmpnbrn9e_8_model_namespace::log_prob: xi is 1.03852, but must be less than or equal to 1.000000 (in 'GEV_non_stationary.stan', line 36, column 2 to column 29)\n",
      "\tException: tmpnbrn9e_8_model_namespace::log_prob: xi is 1.34238, but must be less than or equal to 1.000000 (in 'GEV_non_stationary.stan', line 36, column 2 to column 29)\n",
      "\tException: tmpnbrn9e_8_model_namespace::log_prob: xi is 3.26747, but must be less than or equal to 1.000000 (in 'GEV_non_stationary.stan', line 36, column 2 to column 29)\n",
      "Consider re-running with show_console=True if the above output is unclear!\n",
      "11:21:11 - cmdstanpy - WARNING - Some chains may have failed to converge.\n",
      "\tChain 1 had 2 divergent transitions (0.8%)\n",
      "\tChain 2 had 3 divergent transitions (1.2%)\n",
      "\tChain 3 had 3 divergent transitions (1.2%)\n",
      "\tChain 4 had 3 divergent transitions (1.2%)\n",
      "\tUse the \"diagnose()\" method on the CmdStanMCMC object to see further information.\n",
      "11:21:11 - cmdstanpy - INFO - CmdStan start processing\n",
      "11:21:11 - cmdstanpy - INFO - Chain [1] start processing\n",
      "11:21:11 - cmdstanpy - INFO - Chain [2] start processing\n",
      "11:21:11 - cmdstanpy - INFO - Chain [3] start processing\n",
      "11:21:11 - cmdstanpy - INFO - Chain [4] start processing\n",
      "11:21:12 - cmdstanpy - INFO - Chain [3] done processing\n",
      "11:21:12 - cmdstanpy - INFO - Chain [4] done processing\n"
     ]
    },
    {
     "name": "stdout",
     "output_type": "stream",
     "text": [
      "S01\n"
     ]
    },
    {
     "name": "stderr",
     "output_type": "stream",
     "text": [
      "11:21:12 - cmdstanpy - INFO - Chain [1] done processing\n",
      "11:21:12 - cmdstanpy - INFO - Chain [2] done processing\n",
      "11:21:12 - cmdstanpy - WARNING - Non-fatal error during sampling:\n",
      "Exception: tmpnbrn9e_8_model_namespace::log_prob: xi is 3.26457, but must be less than or equal to 1.000000 (in 'GEV_non_stationary.stan', line 36, column 2 to column 29)\n",
      "\tException: tmpnbrn9e_8_model_namespace::log_prob: xi is -1.93516, but must be greater than or equal to -1.000000 (in 'GEV_non_stationary.stan', line 36, column 2 to column 29)\n",
      "\tException: tmpnbrn9e_8_model_namespace::log_prob: xi is 1.04318, but must be less than or equal to 1.000000 (in 'GEV_non_stationary.stan', line 36, column 2 to column 29)\n",
      "Exception: tmpnbrn9e_8_model_namespace::log_prob: xi is -9.92392, but must be greater than or equal to -1.000000 (in 'GEV_non_stationary.stan', line 36, column 2 to column 29)\n",
      "\tException: tmpnbrn9e_8_model_namespace::log_prob: xi is -3.6987, but must be greater than or equal to -1.000000 (in 'GEV_non_stationary.stan', line 36, column 2 to column 29)\n",
      "Exception: tmpnbrn9e_8_model_namespace::log_prob: xi is -1.58189, but must be greater than or equal to -1.000000 (in 'GEV_non_stationary.stan', line 36, column 2 to column 29)\n",
      "\tException: tmpnbrn9e_8_model_namespace::log_prob: xi is -3.11646, but must be greater than or equal to -1.000000 (in 'GEV_non_stationary.stan', line 36, column 2 to column 29)\n",
      "Exception: tmpnbrn9e_8_model_namespace::log_prob: xi is 4.97032, but must be less than or equal to 1.000000 (in 'GEV_non_stationary.stan', line 36, column 2 to column 29)\n",
      "\tException: tmpnbrn9e_8_model_namespace::log_prob: xi is -4.44351, but must be greater than or equal to -1.000000 (in 'GEV_non_stationary.stan', line 36, column 2 to column 29)\n",
      "\tException: tmpnbrn9e_8_model_namespace::log_prob: xi is -2.03577, but must be greater than or equal to -1.000000 (in 'GEV_non_stationary.stan', line 36, column 2 to column 29)\n",
      "Consider re-running with show_console=True if the above output is unclear!\n",
      "11:21:12 - cmdstanpy - WARNING - Some chains may have failed to converge.\n",
      "\tChain 1 had 10 divergent transitions (4.0%)\n",
      "\tChain 2 had 2 divergent transitions (0.8%)\n",
      "\tChain 3 had 5 divergent transitions (2.0%)\n",
      "\tChain 4 had 12 divergent transitions (4.8%)\n",
      "\tUse the \"diagnose()\" method on the CmdStanMCMC object to see further information.\n",
      "11:21:12 - cmdstanpy - INFO - CmdStan start processing\n",
      "11:21:12 - cmdstanpy - INFO - Chain [1] start processing\n",
      "11:21:12 - cmdstanpy - INFO - Chain [2] start processing\n",
      "11:21:12 - cmdstanpy - INFO - Chain [3] start processing\n",
      "11:21:12 - cmdstanpy - INFO - Chain [4] start processing\n",
      "11:21:12 - cmdstanpy - INFO - Chain [2] done processing\n",
      "11:21:12 - cmdstanpy - INFO - Chain [3] done processing\n"
     ]
    },
    {
     "name": "stdout",
     "output_type": "stream",
     "text": [
      "S02\n"
     ]
    },
    {
     "name": "stderr",
     "output_type": "stream",
     "text": [
      "11:21:12 - cmdstanpy - INFO - Chain [1] done processing\n",
      "11:21:12 - cmdstanpy - INFO - Chain [4] done processing\n",
      "11:21:12 - cmdstanpy - WARNING - Non-fatal error during sampling:\n",
      "Exception: tmpnbrn9e_8_model_namespace::log_prob: xi is 6.14651, but must be less than or equal to 1.000000 (in 'GEV_non_stationary.stan', line 36, column 2 to column 29)\n",
      "\tException: tmpnbrn9e_8_model_namespace::log_prob: xi is 1.2373, but must be less than or equal to 1.000000 (in 'GEV_non_stationary.stan', line 36, column 2 to column 29)\n",
      "\tException: tmpnbrn9e_8_model_namespace::log_prob: xi is 5.99191, but must be less than or equal to 1.000000 (in 'GEV_non_stationary.stan', line 36, column 2 to column 29)\n",
      "\tException: tmpnbrn9e_8_model_namespace::log_prob: xi is 5.24228, but must be less than or equal to 1.000000 (in 'GEV_non_stationary.stan', line 36, column 2 to column 29)\n",
      "\tException: tmpnbrn9e_8_model_namespace::log_prob: xi is 1.061, but must be less than or equal to 1.000000 (in 'GEV_non_stationary.stan', line 36, column 2 to column 29)\n",
      "Exception: tmpnbrn9e_8_model_namespace::log_prob: xi is -1.97286, but must be greater than or equal to -1.000000 (in 'GEV_non_stationary.stan', line 36, column 2 to column 29)\n",
      "\tException: tmpnbrn9e_8_model_namespace::log_prob: xi is -1.31873, but must be greater than or equal to -1.000000 (in 'GEV_non_stationary.stan', line 36, column 2 to column 29)\n",
      "\tException: tmpnbrn9e_8_model_namespace::log_prob: xi is 1.14168, but must be less than or equal to 1.000000 (in 'GEV_non_stationary.stan', line 36, column 2 to column 29)\n",
      "Exception: tmpnbrn9e_8_model_namespace::log_prob: xi is -1.57506, but must be greater than or equal to -1.000000 (in 'GEV_non_stationary.stan', line 36, column 2 to column 29)\n",
      "\tException: tmpnbrn9e_8_model_namespace::log_prob: xi is -2.86755, but must be greater than or equal to -1.000000 (in 'GEV_non_stationary.stan', line 36, column 2 to column 29)\n",
      "\tException: tmpnbrn9e_8_model_namespace::log_prob: xi is 1.43044, but must be less than or equal to 1.000000 (in 'GEV_non_stationary.stan', line 36, column 2 to column 29)\n",
      "Exception: tmpnbrn9e_8_model_namespace::log_prob: xi is 6.12757, but must be less than or equal to 1.000000 (in 'GEV_non_stationary.stan', line 36, column 2 to column 29)\n",
      "\tException: tmpnbrn9e_8_model_namespace::log_prob: xi is -1.07088, but must be greater than or equal to -1.000000 (in 'GEV_non_stationary.stan', line 36, column 2 to column 29)\n",
      "\tException: tmpnbrn9e_8_model_namespace::log_prob: xi is 5.33708, but must be less than or equal to 1.000000 (in 'GEV_non_stationary.stan', line 36, column 2 to column 29)\n",
      "Consider re-running with show_console=True if the above output is unclear!\n",
      "11:21:12 - cmdstanpy - WARNING - Some chains may have failed to converge.\n",
      "\tChain 1 had 7 divergent transitions (2.8%)\n",
      "\tChain 2 had 3 divergent transitions (1.2%)\n",
      "\tChain 3 had 4 divergent transitions (1.6%)\n",
      "\tChain 4 had 5 divergent transitions (2.0%)\n",
      "\tUse the \"diagnose()\" method on the CmdStanMCMC object to see further information.\n",
      "11:21:12 - cmdstanpy - INFO - CmdStan start processing\n",
      "11:21:12 - cmdstanpy - INFO - Chain [1] start processing\n",
      "11:21:12 - cmdstanpy - INFO - Chain [2] start processing\n",
      "11:21:12 - cmdstanpy - INFO - Chain [3] start processing\n",
      "11:21:12 - cmdstanpy - INFO - Chain [4] start processing\n"
     ]
    },
    {
     "name": "stdout",
     "output_type": "stream",
     "text": [
      "S03\n"
     ]
    },
    {
     "name": "stderr",
     "output_type": "stream",
     "text": [
      "11:21:12 - cmdstanpy - INFO - Chain [2] done processing\n",
      "11:21:12 - cmdstanpy - INFO - Chain [1] done processing\n",
      "11:21:12 - cmdstanpy - INFO - Chain [3] done processing\n",
      "11:21:12 - cmdstanpy - INFO - Chain [4] done processing\n",
      "11:21:12 - cmdstanpy - WARNING - Non-fatal error during sampling:\n",
      "Exception: tmpnbrn9e_8_model_namespace::log_prob: xi is 1.94033, but must be less than or equal to 1.000000 (in 'GEV_non_stationary.stan', line 36, column 2 to column 29)\n",
      "Exception: tmpnbrn9e_8_model_namespace::log_prob: xi is -1.00926, but must be greater than or equal to -1.000000 (in 'GEV_non_stationary.stan', line 36, column 2 to column 29)\n",
      "\tException: tmpnbrn9e_8_model_namespace::log_prob: xi is 1.39045, but must be less than or equal to 1.000000 (in 'GEV_non_stationary.stan', line 36, column 2 to column 29)\n",
      "\tException: tmpnbrn9e_8_model_namespace::log_prob: xi is -2.93983, but must be greater than or equal to -1.000000 (in 'GEV_non_stationary.stan', line 36, column 2 to column 29)\n",
      "\tException: tmpnbrn9e_8_model_namespace::log_prob: xi is -4.1792, but must be greater than or equal to -1.000000 (in 'GEV_non_stationary.stan', line 36, column 2 to column 29)\n",
      "Exception: tmpnbrn9e_8_model_namespace::log_prob: xi is -3.99275, but must be greater than or equal to -1.000000 (in 'GEV_non_stationary.stan', line 36, column 2 to column 29)\n",
      "\tException: tmpnbrn9e_8_model_namespace::log_prob: xi is -1.4411, but must be greater than or equal to -1.000000 (in 'GEV_non_stationary.stan', line 36, column 2 to column 29)\n",
      "\tException: tmpnbrn9e_8_model_namespace::log_prob: xi is -1.29964, but must be greater than or equal to -1.000000 (in 'GEV_non_stationary.stan', line 36, column 2 to column 29)\n",
      "Exception: tmpnbrn9e_8_model_namespace::log_prob: xi is -3.49868, but must be greater than or equal to -1.000000 (in 'GEV_non_stationary.stan', line 36, column 2 to column 29)\n",
      "\tException: tmpnbrn9e_8_model_namespace::log_prob: xi is -5.059, but must be greater than or equal to -1.000000 (in 'GEV_non_stationary.stan', line 36, column 2 to column 29)\n",
      "\tException: tmpnbrn9e_8_model_namespace::log_prob: xi is 1.18985, but must be less than or equal to 1.000000 (in 'GEV_non_stationary.stan', line 36, column 2 to column 29)\n",
      "\tException: tmpnbrn9e_8_model_namespace::log_prob: xi is -2.81041, but must be greater than or equal to -1.000000 (in 'GEV_non_stationary.stan', line 36, column 2 to column 29)\n",
      "\tException: tmpnbrn9e_8_model_namespace::log_prob: xi is 1.54486, but must be less than or equal to 1.000000 (in 'GEV_non_stationary.stan', line 36, column 2 to column 29)\n",
      "Consider re-running with show_console=True if the above output is unclear!\n",
      "11:21:12 - cmdstanpy - WARNING - Some chains may have failed to converge.\n",
      "\tChain 1 had 5 divergent transitions (2.0%)\n",
      "\tChain 2 had 10 divergent transitions (4.0%)\n",
      "\tChain 3 had 5 divergent transitions (2.0%)\n",
      "\tChain 4 had 2 divergent transitions (0.8%)\n",
      "\tUse the \"diagnose()\" method on the CmdStanMCMC object to see further information.\n",
      "11:21:12 - cmdstanpy - INFO - CmdStan start processing\n",
      "11:21:12 - cmdstanpy - INFO - Chain [1] start processing\n",
      "11:21:12 - cmdstanpy - INFO - Chain [2] start processing\n",
      "11:21:12 - cmdstanpy - INFO - Chain [3] start processing\n",
      "11:21:12 - cmdstanpy - INFO - Chain [4] start processing\n",
      "11:21:12 - cmdstanpy - INFO - Chain [1] done processing\n",
      "11:21:12 - cmdstanpy - INFO - Chain [2] done processing\n"
     ]
    },
    {
     "name": "stdout",
     "output_type": "stream",
     "text": [
      "S04\n"
     ]
    },
    {
     "name": "stderr",
     "output_type": "stream",
     "text": [
      "11:21:13 - cmdstanpy - INFO - Chain [4] done processing\n",
      "11:21:13 - cmdstanpy - INFO - Chain [3] done processing\n",
      "11:21:13 - cmdstanpy - WARNING - Non-fatal error during sampling:\n",
      "Exception: tmpnbrn9e_8_model_namespace::log_prob: xi is 3.9622, but must be less than or equal to 1.000000 (in 'GEV_non_stationary.stan', line 36, column 2 to column 29)\n",
      "\tException: tmpnbrn9e_8_model_namespace::log_prob: xi is 2.6515, but must be less than or equal to 1.000000 (in 'GEV_non_stationary.stan', line 36, column 2 to column 29)\n",
      "Exception: tmpnbrn9e_8_model_namespace::log_prob: xi is -1.11625, but must be greater than or equal to -1.000000 (in 'GEV_non_stationary.stan', line 36, column 2 to column 29)\n",
      "\tException: tmpnbrn9e_8_model_namespace::log_prob: xi is 1.24602, but must be less than or equal to 1.000000 (in 'GEV_non_stationary.stan', line 36, column 2 to column 29)\n",
      "\tException: tmpnbrn9e_8_model_namespace::log_prob: xi is -1.5904, but must be greater than or equal to -1.000000 (in 'GEV_non_stationary.stan', line 36, column 2 to column 29)\n",
      "Exception: tmpnbrn9e_8_model_namespace::log_prob: xi is 5.46173, but must be less than or equal to 1.000000 (in 'GEV_non_stationary.stan', line 36, column 2 to column 29)\n",
      "\tException: tmpnbrn9e_8_model_namespace::log_prob: xi is 1.04238, but must be less than or equal to 1.000000 (in 'GEV_non_stationary.stan', line 36, column 2 to column 29)\n",
      "Exception: tmpnbrn9e_8_model_namespace::log_prob: xi is -11.9293, but must be greater than or equal to -1.000000 (in 'GEV_non_stationary.stan', line 36, column 2 to column 29)\n",
      "\tException: tmpnbrn9e_8_model_namespace::log_prob: xi is 1.52995, but must be less than or equal to 1.000000 (in 'GEV_non_stationary.stan', line 36, column 2 to column 29)\n",
      "Consider re-running with show_console=True if the above output is unclear!\n",
      "11:21:13 - cmdstanpy - WARNING - Some chains may have failed to converge.\n",
      "\tChain 1 had 3 divergent transitions (1.2%)\n",
      "\tChain 2 had 5 divergent transitions (2.0%)\n",
      "\tChain 3 had 3 divergent transitions (1.2%)\n",
      "\tChain 4 had 9 divergent transitions (3.6%)\n",
      "\tUse the \"diagnose()\" method on the CmdStanMCMC object to see further information.\n",
      "11:21:13 - cmdstanpy - INFO - CmdStan start processing\n",
      "11:21:13 - cmdstanpy - INFO - Chain [1] start processing\n",
      "11:21:13 - cmdstanpy - INFO - Chain [2] start processing\n",
      "11:21:13 - cmdstanpy - INFO - Chain [3] start processing\n",
      "11:21:13 - cmdstanpy - INFO - Chain [4] start processing\n",
      "11:21:13 - cmdstanpy - INFO - Chain [1] done processing\n",
      "11:21:13 - cmdstanpy - INFO - Chain [3] done processing\n"
     ]
    },
    {
     "name": "stdout",
     "output_type": "stream",
     "text": [
      "S05\n"
     ]
    },
    {
     "name": "stderr",
     "output_type": "stream",
     "text": [
      "11:21:13 - cmdstanpy - INFO - Chain [2] done processing\n",
      "11:21:13 - cmdstanpy - INFO - Chain [4] done processing\n",
      "11:21:13 - cmdstanpy - WARNING - Non-fatal error during sampling:\n",
      "Exception: tmpnbrn9e_8_model_namespace::log_prob: xi is 1.2993, but must be less than or equal to 1.000000 (in 'GEV_non_stationary.stan', line 36, column 2 to column 29)\n",
      "Exception: tmpnbrn9e_8_model_namespace::log_prob: xi is 1.95554, but must be less than or equal to 1.000000 (in 'GEV_non_stationary.stan', line 36, column 2 to column 29)\n",
      "\tException: tmpnbrn9e_8_model_namespace::log_prob: xi is -1.37461, but must be greater than or equal to -1.000000 (in 'GEV_non_stationary.stan', line 36, column 2 to column 29)\n",
      "Exception: tmpnbrn9e_8_model_namespace::log_prob: xi is -1.11148, but must be greater than or equal to -1.000000 (in 'GEV_non_stationary.stan', line 36, column 2 to column 29)\n",
      "\tException: tmpnbrn9e_8_model_namespace::log_prob: xi is -1.00599, but must be greater than or equal to -1.000000 (in 'GEV_non_stationary.stan', line 36, column 2 to column 29)\n",
      "\tException: tmpnbrn9e_8_model_namespace::log_prob: xi is 1.10754, but must be less than or equal to 1.000000 (in 'GEV_non_stationary.stan', line 36, column 2 to column 29)\n",
      "Exception: tmpnbrn9e_8_model_namespace::log_prob: xi is -1.2338, but must be greater than or equal to -1.000000 (in 'GEV_non_stationary.stan', line 36, column 2 to column 29)\n",
      "\tException: tmpnbrn9e_8_model_namespace::log_prob: xi is -1.53547, but must be greater than or equal to -1.000000 (in 'GEV_non_stationary.stan', line 36, column 2 to column 29)\n",
      "Consider re-running with show_console=True if the above output is unclear!\n",
      "11:21:13 - cmdstanpy - WARNING - Some chains may have failed to converge.\n",
      "\tChain 1 had 3 divergent transitions (1.2%)\n",
      "\tChain 2 had 6 divergent transitions (2.4%)\n",
      "\tChain 3 had 6 divergent transitions (2.4%)\n",
      "\tChain 4 had 1 divergent transitions (0.4%)\n",
      "\tUse the \"diagnose()\" method on the CmdStanMCMC object to see further information.\n",
      "11:21:13 - cmdstanpy - INFO - CmdStan start processing\n",
      "11:21:13 - cmdstanpy - INFO - Chain [1] start processing\n",
      "11:21:13 - cmdstanpy - INFO - Chain [2] start processing\n",
      "11:21:13 - cmdstanpy - INFO - Chain [3] start processing\n",
      "11:21:13 - cmdstanpy - INFO - Chain [4] start processing\n",
      "11:21:13 - cmdstanpy - INFO - Chain [3] done processing\n",
      "11:21:13 - cmdstanpy - INFO - Chain [1] done processing\n",
      "11:21:13 - cmdstanpy - INFO - Chain [2] done processing\n",
      "11:21:13 - cmdstanpy - INFO - Chain [4] done processing\n"
     ]
    },
    {
     "name": "stdout",
     "output_type": "stream",
     "text": [
      "S06\n"
     ]
    },
    {
     "name": "stderr",
     "output_type": "stream",
     "text": [
      "11:21:13 - cmdstanpy - WARNING - Non-fatal error during sampling:\n",
      "Exception: tmpnbrn9e_8_model_namespace::log_prob: xi is 4.51061, but must be less than or equal to 1.000000 (in 'GEV_non_stationary.stan', line 36, column 2 to column 29)\n",
      "\tException: tmpnbrn9e_8_model_namespace::log_prob: xi is -1.15161, but must be greater than or equal to -1.000000 (in 'GEV_non_stationary.stan', line 36, column 2 to column 29)\n",
      "Exception: tmpnbrn9e_8_model_namespace::log_prob: xi is 2.9289, but must be less than or equal to 1.000000 (in 'GEV_non_stationary.stan', line 36, column 2 to column 29)\n",
      "\tException: tmpnbrn9e_8_model_namespace::log_prob: xi is -13.1267, but must be greater than or equal to -1.000000 (in 'GEV_non_stationary.stan', line 36, column 2 to column 29)\n",
      "\tException: tmpnbrn9e_8_model_namespace::log_prob: xi is 1.21714, but must be less than or equal to 1.000000 (in 'GEV_non_stationary.stan', line 36, column 2 to column 29)\n",
      "Exception: tmpnbrn9e_8_model_namespace::log_prob: xi is -3.74874, but must be greater than or equal to -1.000000 (in 'GEV_non_stationary.stan', line 36, column 2 to column 29)\n",
      "\tException: tmpnbrn9e_8_model_namespace::log_prob: xi is 1.10081, but must be less than or equal to 1.000000 (in 'GEV_non_stationary.stan', line 36, column 2 to column 29)\n",
      "Exception: tmpnbrn9e_8_model_namespace::log_prob: xi is 7.37916, but must be less than or equal to 1.000000 (in 'GEV_non_stationary.stan', line 36, column 2 to column 29)\n",
      "\tException: tmpnbrn9e_8_model_namespace::log_prob: xi is -2.86033, but must be greater than or equal to -1.000000 (in 'GEV_non_stationary.stan', line 36, column 2 to column 29)\n",
      "Consider re-running with show_console=True if the above output is unclear!\n",
      "11:21:13 - cmdstanpy - WARNING - Some chains may have failed to converge.\n",
      "\tChain 1 had 5 divergent transitions (2.0%)\n",
      "\tChain 2 had 6 divergent transitions (2.4%)\n",
      "\tChain 3 had 5 divergent transitions (2.0%)\n",
      "\tChain 4 had 2 divergent transitions (0.8%)\n",
      "\tUse the \"diagnose()\" method on the CmdStanMCMC object to see further information.\n",
      "11:21:13 - cmdstanpy - INFO - CmdStan start processing\n",
      "11:21:13 - cmdstanpy - INFO - Chain [1] start processing\n",
      "11:21:13 - cmdstanpy - INFO - Chain [2] start processing\n",
      "11:21:13 - cmdstanpy - INFO - Chain [3] start processing\n",
      "11:21:13 - cmdstanpy - INFO - Chain [4] start processing\n",
      "11:21:13 - cmdstanpy - INFO - Chain [2] done processing\n",
      "11:21:13 - cmdstanpy - INFO - Chain [4] done processing\n",
      "11:21:13 - cmdstanpy - INFO - Chain [1] done processing\n"
     ]
    },
    {
     "name": "stdout",
     "output_type": "stream",
     "text": [
      "S07\n"
     ]
    },
    {
     "name": "stderr",
     "output_type": "stream",
     "text": [
      "11:21:13 - cmdstanpy - INFO - Chain [3] done processing\n",
      "11:21:13 - cmdstanpy - WARNING - Non-fatal error during sampling:\n",
      "Exception: tmpnbrn9e_8_model_namespace::log_prob: xi is -3.8252, but must be greater than or equal to -1.000000 (in 'GEV_non_stationary.stan', line 36, column 2 to column 29)\n",
      "Exception: tmpnbrn9e_8_model_namespace::log_prob: xi is -1.87384, but must be greater than or equal to -1.000000 (in 'GEV_non_stationary.stan', line 36, column 2 to column 29)\n",
      "\tException: tmpnbrn9e_8_model_namespace::log_prob: xi is -1.24352, but must be greater than or equal to -1.000000 (in 'GEV_non_stationary.stan', line 36, column 2 to column 29)\n",
      "\tException: tmpnbrn9e_8_model_namespace::log_prob: xi is 1.41955, but must be less than or equal to 1.000000 (in 'GEV_non_stationary.stan', line 36, column 2 to column 29)\n",
      "Exception: tmpnbrn9e_8_model_namespace::log_prob: xi is 5.52966, but must be less than or equal to 1.000000 (in 'GEV_non_stationary.stan', line 36, column 2 to column 29)\n",
      "\tException: tmpnbrn9e_8_model_namespace::log_prob: xi is 4.60216, but must be less than or equal to 1.000000 (in 'GEV_non_stationary.stan', line 36, column 2 to column 29)\n",
      "\tException: tmpnbrn9e_8_model_namespace::log_prob: xi is 1.64289, but must be less than or equal to 1.000000 (in 'GEV_non_stationary.stan', line 36, column 2 to column 29)\n",
      "\tException: tmpnbrn9e_8_model_namespace::log_prob: xi is -2.28922, but must be greater than or equal to -1.000000 (in 'GEV_non_stationary.stan', line 36, column 2 to column 29)\n",
      "Exception: tmpnbrn9e_8_model_namespace::log_prob: xi is -1.71895, but must be greater than or equal to -1.000000 (in 'GEV_non_stationary.stan', line 36, column 2 to column 29)\n",
      "\tException: tmpnbrn9e_8_model_namespace::log_prob: xi is -1.6143, but must be greater than or equal to -1.000000 (in 'GEV_non_stationary.stan', line 36, column 2 to column 29)\n",
      "\tException: tmpnbrn9e_8_model_namespace::log_prob: xi is 3.2068, but must be less than or equal to 1.000000 (in 'GEV_non_stationary.stan', line 36, column 2 to column 29)\n",
      "Consider re-running with show_console=True if the above output is unclear!\n",
      "11:21:13 - cmdstanpy - WARNING - Some chains may have failed to converge.\n",
      "\tChain 1 had 3 divergent transitions (1.2%)\n",
      "\tChain 2 had 5 divergent transitions (2.0%)\n",
      "\tChain 3 had 4 divergent transitions (1.6%)\n",
      "\tChain 4 had 6 divergent transitions (2.4%)\n",
      "\tUse the \"diagnose()\" method on the CmdStanMCMC object to see further information.\n",
      "11:21:13 - cmdstanpy - INFO - CmdStan start processing\n",
      "11:21:13 - cmdstanpy - INFO - Chain [1] start processing\n",
      "11:21:13 - cmdstanpy - INFO - Chain [2] start processing\n",
      "11:21:13 - cmdstanpy - INFO - Chain [3] start processing\n",
      "11:21:13 - cmdstanpy - INFO - Chain [4] start processing\n"
     ]
    },
    {
     "name": "stdout",
     "output_type": "stream",
     "text": [
      "S08\n"
     ]
    },
    {
     "name": "stderr",
     "output_type": "stream",
     "text": [
      "11:21:14 - cmdstanpy - INFO - Chain [1] done processing\n",
      "11:21:14 - cmdstanpy - INFO - Chain [2] done processing\n",
      "11:21:14 - cmdstanpy - INFO - Chain [4] done processing\n",
      "11:21:14 - cmdstanpy - INFO - Chain [3] done processing\n",
      "11:21:14 - cmdstanpy - WARNING - Non-fatal error during sampling:\n",
      "Exception: tmpnbrn9e_8_model_namespace::log_prob: xi is 9.88074, but must be less than or equal to 1.000000 (in 'GEV_non_stationary.stan', line 36, column 2 to column 29)\n",
      "\tException: tmpnbrn9e_8_model_namespace::log_prob: xi is 1.52804, but must be less than or equal to 1.000000 (in 'GEV_non_stationary.stan', line 36, column 2 to column 29)\n",
      "\tException: tmpnbrn9e_8_model_namespace::log_prob: xi is 1.9568, but must be less than or equal to 1.000000 (in 'GEV_non_stationary.stan', line 36, column 2 to column 29)\n",
      "Exception: tmpnbrn9e_8_model_namespace::log_prob: xi is -2.91058, but must be greater than or equal to -1.000000 (in 'GEV_non_stationary.stan', line 36, column 2 to column 29)\n",
      "Exception: tmpnbrn9e_8_model_namespace::log_prob: xi is -1.48067, but must be greater than or equal to -1.000000 (in 'GEV_non_stationary.stan', line 36, column 2 to column 29)\n",
      "Consider re-running with show_console=True if the above output is unclear!\n",
      "11:21:14 - cmdstanpy - WARNING - Some chains may have failed to converge.\n",
      "\tChain 1 had 5 divergent transitions (2.0%)\n",
      "\tChain 2 had 6 divergent transitions (2.4%)\n",
      "\tChain 3 had 2 divergent transitions (0.8%)\n",
      "\tChain 4 had 1 divergent transitions (0.4%)\n",
      "\tUse the \"diagnose()\" method on the CmdStanMCMC object to see further information.\n",
      "11:21:14 - cmdstanpy - INFO - CmdStan start processing\n",
      "11:21:14 - cmdstanpy - INFO - Chain [1] start processing\n",
      "11:21:14 - cmdstanpy - INFO - Chain [2] start processing\n",
      "11:21:14 - cmdstanpy - INFO - Chain [3] start processing\n",
      "11:21:14 - cmdstanpy - INFO - Chain [4] start processing\n",
      "11:21:14 - cmdstanpy - INFO - Chain [1] done processing\n",
      "11:21:14 - cmdstanpy - INFO - Chain [2] done processing\n",
      "11:21:14 - cmdstanpy - INFO - Chain [4] done processing\n",
      "11:21:14 - cmdstanpy - INFO - Chain [3] done processing\n"
     ]
    },
    {
     "name": "stdout",
     "output_type": "stream",
     "text": [
      "S09\n"
     ]
    },
    {
     "name": "stderr",
     "output_type": "stream",
     "text": [
      "11:21:14 - cmdstanpy - WARNING - Non-fatal error during sampling:\n",
      "Exception: tmpnbrn9e_8_model_namespace::log_prob: xi is 1.1057, but must be less than or equal to 1.000000 (in 'GEV_non_stationary.stan', line 36, column 2 to column 29)\n",
      "\tException: tmpnbrn9e_8_model_namespace::log_prob: xi is 1.71251, but must be less than or equal to 1.000000 (in 'GEV_non_stationary.stan', line 36, column 2 to column 29)\n",
      "\tException: tmpnbrn9e_8_model_namespace::log_prob: xi is -5.28779, but must be greater than or equal to -1.000000 (in 'GEV_non_stationary.stan', line 36, column 2 to column 29)\n",
      "Exception: tmpnbrn9e_8_model_namespace::log_prob: xi is -1.55637, but must be greater than or equal to -1.000000 (in 'GEV_non_stationary.stan', line 36, column 2 to column 29)\n",
      "\tException: tmpnbrn9e_8_model_namespace::log_prob: xi is -5.44946, but must be greater than or equal to -1.000000 (in 'GEV_non_stationary.stan', line 36, column 2 to column 29)\n",
      "\tException: tmpnbrn9e_8_model_namespace::log_prob: xi is -1.70329, but must be greater than or equal to -1.000000 (in 'GEV_non_stationary.stan', line 36, column 2 to column 29)\n",
      "\tException: tmpnbrn9e_8_model_namespace::log_prob: xi is 1.13961, but must be less than or equal to 1.000000 (in 'GEV_non_stationary.stan', line 36, column 2 to column 29)\n",
      "\tException: tmpnbrn9e_8_model_namespace::log_prob: xi is -1.83178, but must be greater than or equal to -1.000000 (in 'GEV_non_stationary.stan', line 36, column 2 to column 29)\n",
      "Exception: tmpnbrn9e_8_model_namespace::log_prob: xi is -3.4229, but must be greater than or equal to -1.000000 (in 'GEV_non_stationary.stan', line 36, column 2 to column 29)\n",
      "\tException: tmpnbrn9e_8_model_namespace::log_prob: xi is -2.67421, but must be greater than or equal to -1.000000 (in 'GEV_non_stationary.stan', line 36, column 2 to column 29)\n",
      "Exception: tmpnbrn9e_8_model_namespace::log_prob: xi is 1.60875, but must be less than or equal to 1.000000 (in 'GEV_non_stationary.stan', line 36, column 2 to column 29)\n",
      "\tException: tmpnbrn9e_8_model_namespace::log_prob: xi is 2.26034, but must be less than or equal to 1.000000 (in 'GEV_non_stationary.stan', line 36, column 2 to column 29)\n",
      "\tException: tmpnbrn9e_8_model_namespace::log_prob: xi is -2.01162, but must be greater than or equal to -1.000000 (in 'GEV_non_stationary.stan', line 36, column 2 to column 29)\n",
      "Consider re-running with show_console=True if the above output is unclear!\n",
      "11:21:14 - cmdstanpy - WARNING - Some chains may have failed to converge.\n",
      "\tChain 1 had 4 divergent transitions (1.6%)\n",
      "\tChain 2 had 4 divergent transitions (1.6%)\n",
      "\tChain 3 had 3 divergent transitions (1.2%)\n",
      "\tChain 4 had 1 divergent transitions (0.4%)\n",
      "\tUse the \"diagnose()\" method on the CmdStanMCMC object to see further information.\n"
     ]
    },
    {
     "name": "stdout",
     "output_type": "stream",
     "text": [
      "3.0315401554107666\n"
     ]
    }
   ],
   "source": []
  },
  {
   "cell_type": "code",
   "execution_count": 18,
   "id": "ce4b7f76",
   "metadata": {},
   "outputs": [
    {
     "data": {
      "text/plain": [
       "11"
      ]
     },
     "execution_count": 18,
     "metadata": {},
     "output_type": "execute_result"
    }
   ],
   "source": []
  },
  {
   "cell_type": "code",
   "execution_count": 24,
   "id": "2f592cb2",
   "metadata": {},
   "outputs": [
    {
     "name": "stdout",
     "output_type": "stream",
     "text": [
      "29.220379114151\n"
     ]
    }
   ],
   "source": [
    "#Pour comparer, contrainte originale (ici produit 10 tirages)\n",
    "t0 = tm.time()\n",
    "bayes_kwargs = { \"n_mcmc_drawn_min\" :  5000 , \"n_mcmc_drawn_max\" : 10000 }\n",
    "bayes_kwargs[\"transition_type\"]=\"Fixed\"\n",
    "bayes_kwargs[\"fixed_cov\"]=np.array([0.1,0.1,0.1,0.1,0.1])\n",
    "climCXCB   = ns.constrain_law( clim_CX , Yo , verbose = False , **bayes_kwargs )\n",
    "t1 = tm.time()\n",
    "total = t1-t0\n",
    "print(total)\n",
    "climCXCB.to_netcdf( (\"clim_CXCB.nc\")  ) "
   ]
  },
  {
   "cell_type": "code",
   "execution_count": null,
   "id": "b587ba07",
   "metadata": {},
   "outputs": [],
   "source": []
  },
  {
   "cell_type": "code",
   "execution_count": null,
   "id": "037e73ed",
   "metadata": {},
   "outputs": [],
   "source": []
  }
 ],
 "metadata": {
  "kernelspec": {
   "display_name": "TestSDFC",
   "language": "python",
   "name": "testsdfc"
  },
  "language_info": {
   "codemirror_mode": {
    "name": "ipython",
    "version": 3
   },
   "file_extension": ".py",
   "mimetype": "text/x-python",
   "name": "python",
   "nbconvert_exporter": "python",
   "pygments_lexer": "ipython3",
   "version": "3.12.0"
  }
 },
 "nbformat": 4,
 "nbformat_minor": 5
}
