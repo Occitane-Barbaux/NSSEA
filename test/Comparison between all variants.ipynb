{
 "cells": [
  {
   "cell_type": "code",
   "execution_count": 1,
   "id": "0a09c73c",
   "metadata": {},
   "outputs": [],
   "source": [
    "import sys,os\n",
    "import tarfile\n",
    "import numpy as np\n",
    "import pandas as pd\n",
    "import xarray as xr\n",
    "import time as tm\n",
    "\n",
    "import SDFC.link as sdl\n",
    "import NSSEA as ns\n",
    "import NSSEA.plot as nsp\n",
    "import NSSEA.models as nsm"
   ]
  },
  {
   "cell_type": "code",
   "execution_count": 2,
   "id": "9069aca9",
   "metadata": {},
   "outputs": [
    {
     "data": {
      "text/plain": [
       "'/home/barbauxo/miniconda3/envs/TestSDFC/bin/cmdstan'"
      ]
     },
     "execution_count": 2,
     "metadata": {},
     "output_type": "execute_result"
    }
   ],
   "source": [
    "from cmdstanpy import CmdStanModel\n",
    "import logging\n",
    "from cmdstanpy import cmdstan_path, set_cmdstan_path\n",
    "\n",
    "set_cmdstan_path('/home/barbauxo/miniconda3/envs/TestSDFC/bin/cmdstan')\n",
    "cmdstan_path()"
   ]
  },
  {
   "cell_type": "code",
   "execution_count": 3,
   "id": "eb1158b5",
   "metadata": {},
   "outputs": [],
   "source": [
    "#Useful modified\n",
    "def correct_miss( X , lo =  100 , up = 350 ):##{{{\n",
    "#\treturn X\n",
    "\tmod = str(X.columns[0])\n",
    "\tbad = np.logical_or( X < lo , X > up )\n",
    "\tbad = np.logical_or( bad , np.isnan(X) )\n",
    "\tbad = np.logical_or( bad , np.logical_not(np.isfinite(X)) )\n",
    "\tif np.any(bad):\n",
    "\t\tidx,_ = np.where(bad)\n",
    "\t\tidx_co = np.copy(idx)\n",
    "\t\tfor i in range(idx.size):\n",
    "\t\t\tj = 0\n",
    "\t\t\twhile idx[i] + j in idx:\n",
    "\t\t\t\tj += 1\n",
    "\t\t\tidx_co[i] += j\n",
    "\t\tX.iloc[idx] = X.iloc[idx_co].values\n",
    "\treturn X\n",
    "##}}}\n",
    "\n",
    "def load_models_CMIP6(pathInp,type_data):\n",
    "    ## List of models X\n",
    "    pathInpX= os.path.join(pathInp,\"CMIP6/X\",type_data)\n",
    "    modelsX = [  \"_\".join(f.split(\"/\")[-1][:-3].split(\"_\")[-2:]) for f in os.listdir(pathInpX) ]\n",
    "    modelsX.sort()\n",
    "\n",
    "    ## List of models Y\n",
    "    pathInpY= os.path.join(pathInp,\"CMIP6/Y\",type_data)\n",
    "    modelsY = [ \"_\".join(f.split(\"/\")[-1][:-3].split(\"_\")[-2:]) for f in os.listdir(pathInpY) ]\n",
    "    modelsY.sort()\n",
    "    models = list(set(modelsX) & set(modelsY))\n",
    "    models.sort()\n",
    "    print(models)\n",
    "\n",
    "\n",
    "    ## Load X and Y\n",
    "    lX = []\n",
    "    lY = []\n",
    "    if type_data== \"03_Post_treatment\":\n",
    "    \t\n",
    "    \tfor m in models:\n",
    "\t\t\n",
    "        \t## Load X\n",
    "        \n",
    "        \tdf   = xr.open_dataset( os.path.join( pathInpX , \"full_Europe_tas_YearMean_ssp585_{}.nc\".format(m) ) ,decode_times=True )\n",
    "        \ttime = df.time[\"time.year\"].values.astype(int)\n",
    "        \tX    = pd.DataFrame( df.tas.values.ravel() , columns = [m] , index = time )\n",
    "        \t\n",
    "        \tlX.append( correct_miss(X , lo =  -15 , up = 25))\n",
    "    \n",
    "        \t## Load Y\n",
    "        \tdf   = xr.open_dataset( os.path.join( pathInpY , \"full_Tricastin_ssp585_{}.nc\".format(m) ) ,decode_times=True  )\n",
    "        \ttime = df.time[\"time.year\"].values.astype(int)\n",
    "        \tY    = pd.DataFrame( df.tasmax.values.ravel() , columns = [m] , \tindex = time )\n",
    "        \tlY.append( correct_miss(Y, lo =  -15 , up = 25 ))\n",
    "    else:\n",
    "    \tfor m in models:\n",
    "\n",
    "        \t## Load X\n",
    "        \n",
    "        \tdf   = xr.open_dataset( os.path.join( pathInpX , \"full_Europe_tas_YearMean_ssp585_{}.nc\".format(m) ) ,decode_times=False )\n",
    "        \ttime = df.time.values.astype(int)\n",
    "        \tX    = pd.DataFrame( df.tas.values.ravel() , columns = [m] , index = time )\n",
    "    \n",
    "        \tlX.append( correct_miss(X) )\n",
    "    \n",
    "        \t## Load Y\n",
    "        \tdf   = xr.open_dataset( os.path.join( pathInpY , \"full_Tricastin_ssp585_{}.nc\".format(m) ) ,decode_times=False  )\n",
    "        \ttime = df.time.values.astype(int)\n",
    "        \tY    = pd.DataFrame( df.tasmax.values.ravel() , columns = [m] , \tindex = time )\n",
    "        \tlY.append( correct_miss(Y) )\n",
    "    return lX, lY,models\n",
    "    \n",
    "\n",
    "def load_obs(pathInp,type_data):\n",
    "    ## Load Observations\n",
    "    dXo = xr.open_dataset(os.path.join( pathInp ,\"Observations\",type_data,\"Xo.nc\"))\n",
    "    Xo  = pd.DataFrame( dXo.tas.values.squeeze() , columns = [\"Xo\"] , index = dXo.time[\"time.year\"].values )\n",
    "\n",
    "    Xo #Deja en anomalies\n",
    "    dYo = xr.open_dataset(os.path.join( pathInp ,\"Observations\",type_data,\"Yo.nc\"))\n",
    "    Yo  = pd.DataFrame( dYo.TX.values.squeeze() , columns = [\"Yo\"] , index = dYo.time[\"time.year\"].values )\n",
    "    return Xo,Yo #en celsius"
   ]
  },
  {
   "cell_type": "code",
   "execution_count": 4,
   "id": "c9f60d44",
   "metadata": {},
   "outputs": [],
   "source": [
    "#Parameters\n",
    "time_period    = np.arange( 1850 , 2101 , 1 , dtype = int )\n",
    "time_reference = np.arange( 1986 , 2016 , 1 , dtype = int )\n",
    "\n",
    "ci          = 0.05\n",
    "sample_dis=False #If want n sample of each GCM model. For graph only, not used for multisynthesis. Takes a lot of time\n",
    "\n",
    "#Time period of interest\n",
    "T=100\n",
    "T1=2000\n",
    "T2=2100\n",
    "deb=1850\n",
    "fin=2101\n",
    "\n",
    "ns_law      = nsm.GEV()\n",
    "event       = ns.Event( \"HW19\" , 2019 , time_reference , type_ = \"value\" , variable = \"TX3X\" , unit = \"K\" )\n",
    "verbose     = \"--not-verbose\" not in sys.argv"
   ]
  },
  {
   "cell_type": "code",
   "execution_count": 5,
   "id": "46049e24",
   "metadata": {},
   "outputs": [
    {
     "name": "stdout",
     "output_type": "stream",
     "text": [
      "['ACCESS-CM2_i1p1f1', 'ACCESS-ESM1-5_i1p1f1', 'CMCC-ESM2_i1p1f1', 'CNRM-CM6-1-HR_i1p1f2', 'CNRM-CM6-1_i1p1f2', 'CNRM-ESM2-1_i1p1f2', 'CanESM5_i1p2f1', 'EC-Earth3-CC_i1p1f1', 'EC-Earth3-Veg-LR_i1p1f1', 'EC-Earth3-Veg_i1p1f1', 'EC-Earth3_i1p1f1', 'FGOALS-g3_i1p1f1', 'GFDL-ESM4_i1p1f1', 'HadGEM3-GC31-LL_i1p1f3', 'HadGEM3-GC31-MM_i1p1f3', 'INM-CM4-8_i1p1f1', 'INM-CM5-0_i1p1f1', 'IPSL-CM6A-LR_i1p1f1', 'KACE-1-0-G_i1p1f1', 'MIROC-ES2L_i1p1f2', 'MIROC6_i1p1f1', 'MPI-ESM1-2-LR_i1p1f1', 'MRI-ESM2-0_i1p1f1', 'MRI-ESM2-0_i2p1f1', 'NESM3_i1p1f1', 'NorESM2-MM_i1p1f1', 'TaiESM1_i1p1f1', 'UKESM1-0-LL_i1p1f2']\n"
     ]
    },
    {
     "name": "stderr",
     "output_type": "stream",
     "text": [
      "/tmp/ipykernel_64459/3393259602.py:5: FutureWarning: Calling float on a single element Series is deprecated and will raise a TypeError in the future. Use float(ser.iloc[0]) instead\n",
      "  event.value = float(Yo.loc[event.time])\n"
     ]
    }
   ],
   "source": [
    "pathInp='/home/barbauxo/Documents/Doctorat/03_Travail/2023_01 Application Tricastin/Data'\n",
    "type_data=\"03_Post_treatment\"  #\"02_Selected\"\n",
    "lX,lY,models=load_models_CMIP6(pathInp,type_data)\n",
    "Xo,Yo=load_obs(pathInp,type_data)\n",
    "event.value = float(Yo.loc[event.time])"
   ]
  },
  {
   "cell_type": "code",
   "execution_count": 6,
   "id": "56ce68a3",
   "metadata": {},
   "outputs": [],
   "source": [
    "n_sample    = 1000\n",
    "verbose=False"
   ]
  },
  {
   "cell_type": "code",
   "execution_count": 6,
   "id": "a844383f",
   "metadata": {},
   "outputs": [
    {
     "name": "stdout",
     "output_type": "stream",
     "text": [
      "4260.950239181519\n"
     ]
    }
   ],
   "source": [
    "## Prior Functions (Yoann this is so slow)\n",
    "##================================\n",
    "t0 = tm.time()\n",
    "clim = ns.Climatology( event , time_period , models ,n_sample  , ns_law )\n",
    "Xebm   = ns.EBM().draw_sample( clim.time , n_sample + 1 , fix_first = 0 )\n",
    "clim =ns.covariates_FC_GAM( clim , lX ,  Xebm , dof = 7 , verbose = False )\n",
    "clim = ns.nslaw_fit( lY , clim , verbose = verbose ) \n",
    "clim = ns.infer_multi_model( clim , verbose = verbose )\n",
    "## Add constraint on X\n",
    "clim_light_MM = clim.copy()\n",
    "clim_light_MM.keep_models( \"Multi_Synthesis\" )\n",
    "clim_CX     = ns.constrain_covariate( clim_light_MM , Xo , time_reference , verbose = verbose )\n",
    "t1 = tm.time()\n",
    "total = t1-t0\n",
    "print(total)"
   ]
  },
  {
   "cell_type": "code",
   "execution_count": 7,
   "id": "96a9af31",
   "metadata": {},
   "outputs": [],
   "source": [
    "clim_CX.to_netcdf( \"clim_CX_test_\"+str(n_sample)+\".nc\")"
   ]
  },
  {
   "cell_type": "code",
   "execution_count": 7,
   "id": "ae9757da",
   "metadata": {},
   "outputs": [],
   "source": [
    "clim_CX=ns.Climatology.from_netcdf(  \"clim_CX_test_\"+str(n_sample)+\".nc\" , ns_law )"
   ]
  },
  {
   "cell_type": "code",
   "execution_count": null,
   "id": "3962e8a2",
   "metadata": {},
   "outputs": [],
   "source": [
    "#Metropolis Hasting Within Gibbs\n",
    "t0 = tm.time()\n",
    "bayes_kwargs = { \"n_mcmc_drawn_min\" :  5000 , \"n_mcmc_drawn_max\" : 10000 ,\"n_ess\"   : 100, \"burn_in\" : 800  ,\"mcmc_init\":np.array([0]*5)      }\n",
    "bayes_kwargs[\"transition_type\"]=\"Adapt\"\n",
    "bayes_kwargs[\"method_MCMC\"]=\"bayesian-experimental-mhwg-ess\"\n",
    "climCXCB    = ns.constrain_law( clim_CX , Yo , verbose = verbose , **bayes_kwargs )\n",
    "t1 = tm.time()\n",
    "total = t1-t0\n",
    "print(total)"
   ]
  },
  {
   "cell_type": "code",
   "execution_count": null,
   "id": "f5b7cc3f",
   "metadata": {
    "scrolled": true
   },
   "outputs": [],
   "source": [
    "#stan version\n",
    "bayes_kwargs = { \"n_ess\"   : 100}#int(10000/(len(clim_CX.data.sample)-1))   } #Ici produit 10000 tirages en tout\n",
    "t0 = tm.time()\n",
    "climCXCB_stan_light=ns.stan_constrain(clim_CX,Yo,'stan_files/GEV_non_stationary.stan', **bayes_kwargs)\n",
    "t1 = tm.time()\n",
    "total = t1-t0\n",
    "print(total)\n",
    "climCXCB_stan_light.to_netcdf( (\"clim_CXCB_stan.nc\")  ) "
   ]
  },
  {
   "cell_type": "code",
   "execution_count": null,
   "id": "a88ca520",
   "metadata": {},
   "outputs": [],
   "source": [
    "#original with 100 ess\n",
    "t0 = tm.time()\n",
    "bayes_kwargs = { \"n_mcmc_drawn_min\" :  5000 , \"n_mcmc_drawn_max\" : 10000 ,\"n_ess\"   : 100, \"burn_in\" : 800  ,\"mcmc_init\":np.array([0]*5)      }\n",
    "bayes_kwargs[\"transition_type\"]=\"Fixed\"\n",
    "bayes_kwargs[\"method_MCMC\"]=\"bayesian-experimental-ess\"\n",
    "climCXCB   = ns.constrain_law( clim_CX , Yo , verbose = verbose , **bayes_kwargs )\n",
    "t1 = tm.time()\n",
    "total = t1-t0\n",
    "print(total)"
   ]
  },
  {
   "cell_type": "code",
   "execution_count": null,
   "id": "b1824c7b",
   "metadata": {},
   "outputs": [],
   "source": [
    "#Original"
   ]
  },
  {
   "cell_type": "code",
   "execution_count": 16,
   "id": "50012191",
   "metadata": {},
   "outputs": [
    {
     "name": "stderr",
     "output_type": "stream",
     "text": [
      "/home/barbauxo/Documents/05_Autres Activités/2023_11_Transfert_Code_Yoann/NSSEA/NSSEA/models/__AbstractModel.py:114: SyntaxWarning: invalid escape sequence '\\m'\n",
      "  self.name_tex = \"\\mathrm{\" + self.name + \"}\"\n"
     ]
    },
    {
     "ename": "KeyboardInterrupt",
     "evalue": "",
     "output_type": "error",
     "traceback": [
      "\u001b[0;31m---------------------------------------------------------------------------\u001b[0m",
      "\u001b[0;31mKeyboardInterrupt\u001b[0m                         Traceback (most recent call last)",
      "Cell \u001b[0;32mIn[16], line 8\u001b[0m\n\u001b[1;32m      6\u001b[0m Xebm   \u001b[38;5;241m=\u001b[39m ns\u001b[38;5;241m.\u001b[39mEBM()\u001b[38;5;241m.\u001b[39mdraw_sample( clim\u001b[38;5;241m.\u001b[39mtime , n_sample \u001b[38;5;241m+\u001b[39m \u001b[38;5;241m1\u001b[39m , fix_first \u001b[38;5;241m=\u001b[39m \u001b[38;5;241m0\u001b[39m )\n\u001b[1;32m      7\u001b[0m clim \u001b[38;5;241m=\u001b[39mns\u001b[38;5;241m.\u001b[39mcovariates_FC_GAM( clim , lX ,  Xebm , dof \u001b[38;5;241m=\u001b[39m \u001b[38;5;241m7\u001b[39m , verbose \u001b[38;5;241m=\u001b[39m \u001b[38;5;28;01mFalse\u001b[39;00m )\n\u001b[0;32m----> 8\u001b[0m clim \u001b[38;5;241m=\u001b[39m \u001b[43mns\u001b[49m\u001b[38;5;241;43m.\u001b[39;49m\u001b[43mnslaw_fit\u001b[49m\u001b[43m(\u001b[49m\u001b[43m \u001b[49m\u001b[43mlY\u001b[49m\u001b[43m \u001b[49m\u001b[43m,\u001b[49m\u001b[43m \u001b[49m\u001b[43mclim\u001b[49m\u001b[43m \u001b[49m\u001b[43m,\u001b[49m\u001b[43m \u001b[49m\u001b[43mverbose\u001b[49m\u001b[43m \u001b[49m\u001b[38;5;241;43m=\u001b[39;49m\u001b[43m \u001b[49m\u001b[43mverbose\u001b[49m\u001b[43m \u001b[49m\u001b[43m)\u001b[49m \n\u001b[1;32m      9\u001b[0m clim \u001b[38;5;241m=\u001b[39m ns\u001b[38;5;241m.\u001b[39minfer_multi_model( clim , verbose \u001b[38;5;241m=\u001b[39m verbose )\n\u001b[1;32m     10\u001b[0m \u001b[38;5;66;03m## Add constraint on X\u001b[39;00m\n",
      "File \u001b[0;32m~/Documents/05_Autres Activités/2023_11_Transfert_Code_Yoann/NSSEA/NSSEA/__nsfit.py:156\u001b[0m, in \u001b[0;36mnslaw_fit\u001b[0;34m(lY, clim, verbose, light)\u001b[0m\n\u001b[1;32m    154\u001b[0m \tYs \u001b[38;5;241m=\u001b[39m Y\u001b[38;5;241m.\u001b[39miloc[idx]\u001b[38;5;241m.\u001b[39mvalues\n\u001b[1;32m    155\u001b[0m \tXs \u001b[38;5;241m=\u001b[39m clim\u001b[38;5;241m.\u001b[39mX\u001b[38;5;241m.\u001b[39mloc[tYs,s,\u001b[38;5;124m\"\u001b[39m\u001b[38;5;124mF\u001b[39m\u001b[38;5;124m\"\u001b[39m,model]\u001b[38;5;241m.\u001b[39mvalues\n\u001b[0;32m--> 156\u001b[0m \t\u001b[43mlaw\u001b[49m\u001b[38;5;241;43m.\u001b[39;49m\u001b[43mfit\u001b[49m\u001b[43m(\u001b[49m\u001b[43mYs\u001b[49m\u001b[43m,\u001b[49m\u001b[43mXs\u001b[49m\u001b[43m,\u001b[49m\u001b[43m \u001b[49m\u001b[43minit\u001b[49m\u001b[43m \u001b[49m\u001b[38;5;241;43m=\u001b[39;49m\u001b[43m \u001b[49m\u001b[43mcoef_be\u001b[49m\u001b[43m)\u001b[49m\n\u001b[1;32m    157\u001b[0m \tfit_is_valid \u001b[38;5;241m=\u001b[39m law\u001b[38;5;241m.\u001b[39mcheck( Y\u001b[38;5;241m.\u001b[39mvalues\u001b[38;5;241m.\u001b[39msqueeze() , X\u001b[38;5;241m.\u001b[39mvalues\u001b[38;5;241m.\u001b[39msqueeze() , np\u001b[38;5;241m.\u001b[39marange( \u001b[38;5;241m0\u001b[39m , tY\u001b[38;5;241m.\u001b[39msize , \u001b[38;5;241m1\u001b[39m ) )\n\u001b[1;32m    158\u001b[0m law_coef\u001b[38;5;241m.\u001b[39mloc[:,s,model] \u001b[38;5;241m=\u001b[39m law\u001b[38;5;241m.\u001b[39mget_params()\n",
      "File \u001b[0;32m~/Documents/05_Autres Activités/2023_11_Transfert_Code_Yoann/NSSEA/NSSEA/models/__AbstractModel.py:182\u001b[0m, in \u001b[0;36mAbstractModel.fit\u001b[0;34m(self, Y, X, **kwargs)\u001b[0m\n\u001b[1;32m    180\u001b[0m sdkwargs \u001b[38;5;241m=\u001b[39m { \u001b[38;5;241m*\u001b[39m\u001b[38;5;241m*\u001b[39mkwargs , \u001b[38;5;241m*\u001b[39m\u001b[38;5;241m*\u001b[39m\u001b[38;5;28mself\u001b[39m\u001b[38;5;241m.\u001b[39m_get_sdkwargs(X) }\n\u001b[1;32m    181\u001b[0m sdlaw \u001b[38;5;241m=\u001b[39m \u001b[38;5;28mself\u001b[39m\u001b[38;5;241m.\u001b[39msdlaw( method \u001b[38;5;241m=\u001b[39m \u001b[38;5;124m\"\u001b[39m\u001b[38;5;124mMLE\u001b[39m\u001b[38;5;124m\"\u001b[39m )\n\u001b[0;32m--> 182\u001b[0m \u001b[43msdlaw\u001b[49m\u001b[38;5;241;43m.\u001b[39;49m\u001b[43mfit\u001b[49m\u001b[43m(\u001b[49m\u001b[43m \u001b[49m\u001b[43mY\u001b[49m\u001b[43m \u001b[49m\u001b[43m,\u001b[49m\u001b[43m \u001b[49m\u001b[38;5;241;43m*\u001b[39;49m\u001b[38;5;241;43m*\u001b[39;49m\u001b[43msdkwargs\u001b[49m\u001b[43m \u001b[49m\u001b[43m)\u001b[49m\n\u001b[1;32m    183\u001b[0m \u001b[38;5;28mself\u001b[39m\u001b[38;5;241m.\u001b[39mset_params(sdlaw\u001b[38;5;241m.\u001b[39mcoef_)\n",
      "File \u001b[0;32m~/Documents/05_Autres Activités/2023_11_Transfert_Code_Yoann/SDFC-python/SDFC/__AbstractLaw.py:371\u001b[0m, in \u001b[0;36mAbstractLaw.fit\u001b[0;34m(self, Y, **kwargs)\u001b[0m\n\u001b[1;32m    369\u001b[0m \t\u001b[38;5;28mself\u001b[39m\u001b[38;5;241m.\u001b[39m_special_fit()\n\u001b[1;32m    370\u001b[0m \u001b[38;5;28;01melif\u001b[39;00m \u001b[38;5;28mself\u001b[39m\u001b[38;5;241m.\u001b[39m_method \u001b[38;5;241m==\u001b[39m \u001b[38;5;124m\"\u001b[39m\u001b[38;5;124mmle\u001b[39m\u001b[38;5;124m\"\u001b[39m :\n\u001b[0;32m--> 371\u001b[0m \t\u001b[38;5;28;43mself\u001b[39;49m\u001b[38;5;241;43m.\u001b[39;49m\u001b[43m_fit_MLE\u001b[49m\u001b[43m(\u001b[49m\u001b[38;5;241;43m*\u001b[39;49m\u001b[38;5;241;43m*\u001b[39;49m\u001b[43mkwargs\u001b[49m\u001b[43m)\u001b[49m\n\u001b[1;32m    372\u001b[0m \u001b[38;5;28;01melif\u001b[39;00m \u001b[38;5;28mself\u001b[39m\u001b[38;5;241m.\u001b[39m_method \u001b[38;5;241m==\u001b[39m\u001b[38;5;124m\"\u001b[39m\u001b[38;5;124mbayesian-experimental-mhwg\u001b[39m\u001b[38;5;124m\"\u001b[39m:\n\u001b[1;32m    373\u001b[0m \t\u001b[38;5;28mself\u001b[39m\u001b[38;5;241m.\u001b[39m_fit_Bayesian_MHWG(\u001b[38;5;241m*\u001b[39m\u001b[38;5;241m*\u001b[39mkwargs)\n",
      "File \u001b[0;32m~/Documents/05_Autres Activités/2023_11_Transfert_Code_Yoann/SDFC-python/SDFC/__AbstractLaw.py:243\u001b[0m, in \u001b[0;36mAbstractLaw._fit_MLE\u001b[0;34m(self, **kwargs)\u001b[0m\n\u001b[1;32m    241\u001b[0m \u001b[38;5;28;01mwith\u001b[39;00m warnings\u001b[38;5;241m.\u001b[39mcatch_warnings():\n\u001b[1;32m    242\u001b[0m \twarnings\u001b[38;5;241m.\u001b[39msimplefilter(\u001b[38;5;124m\"\u001b[39m\u001b[38;5;124mignore\u001b[39m\u001b[38;5;124m\"\u001b[39m)\n\u001b[0;32m--> 243\u001b[0m \t\u001b[38;5;28mself\u001b[39m\u001b[38;5;241m.\u001b[39minfo_\u001b[38;5;241m.\u001b[39mmle_optim_result \u001b[38;5;241m=\u001b[39m \u001b[43msco\u001b[49m\u001b[38;5;241;43m.\u001b[39;49m\u001b[43mminimize\u001b[49m\u001b[43m(\u001b[49m\u001b[43m \u001b[49m\u001b[38;5;28;43mself\u001b[39;49m\u001b[38;5;241;43m.\u001b[39;49m\u001b[43m_negloglikelihood\u001b[49m\u001b[43m \u001b[49m\u001b[43m,\u001b[49m\u001b[43m \u001b[49m\u001b[38;5;28;43mself\u001b[39;49m\u001b[38;5;241;43m.\u001b[39;49m\u001b[43mcoef_\u001b[49m\u001b[43m \u001b[49m\u001b[43m,\u001b[49m\u001b[43m \u001b[49m\u001b[43mjac\u001b[49m\u001b[43m \u001b[49m\u001b[38;5;241;43m=\u001b[39;49m\u001b[43m \u001b[49m\u001b[38;5;28;43mself\u001b[39;49m\u001b[38;5;241;43m.\u001b[39;49m\u001b[43m_gradient_nlll\u001b[49m\u001b[43m \u001b[49m\u001b[43m,\u001b[49m\u001b[43m \u001b[49m\u001b[43mmethod\u001b[49m\u001b[43m \u001b[49m\u001b[38;5;241;43m=\u001b[39;49m\u001b[43m \u001b[49m\u001b[38;5;124;43m\"\u001b[39;49m\u001b[38;5;124;43mBFGS\u001b[39;49m\u001b[38;5;124;43m\"\u001b[39;49m\u001b[43m \u001b[49m\u001b[43m)\u001b[49m\n\u001b[1;32m    244\u001b[0m \u001b[38;5;28mself\u001b[39m\u001b[38;5;241m.\u001b[39minfo_\u001b[38;5;241m.\u001b[39mcov_             \u001b[38;5;241m=\u001b[39m \u001b[38;5;28mself\u001b[39m\u001b[38;5;241m.\u001b[39minfo_\u001b[38;5;241m.\u001b[39mmle_optim_result\u001b[38;5;241m.\u001b[39mhess_inv\n\u001b[1;32m    245\u001b[0m \u001b[38;5;28mself\u001b[39m\u001b[38;5;241m.\u001b[39mcoef_                  \u001b[38;5;241m=\u001b[39m \u001b[38;5;28mself\u001b[39m\u001b[38;5;241m.\u001b[39minfo_\u001b[38;5;241m.\u001b[39mmle_optim_result\u001b[38;5;241m.\u001b[39mx\n",
      "File \u001b[0;32m~/miniconda3/envs/TestSDFC/lib/python3.12/site-packages/scipy/optimize/_minimize.py:705\u001b[0m, in \u001b[0;36mminimize\u001b[0;34m(fun, x0, args, method, jac, hess, hessp, bounds, constraints, tol, callback, options)\u001b[0m\n\u001b[1;32m    703\u001b[0m     res \u001b[38;5;241m=\u001b[39m _minimize_cg(fun, x0, args, jac, callback, \u001b[38;5;241m*\u001b[39m\u001b[38;5;241m*\u001b[39moptions)\n\u001b[1;32m    704\u001b[0m \u001b[38;5;28;01melif\u001b[39;00m meth \u001b[38;5;241m==\u001b[39m \u001b[38;5;124m'\u001b[39m\u001b[38;5;124mbfgs\u001b[39m\u001b[38;5;124m'\u001b[39m:\n\u001b[0;32m--> 705\u001b[0m     res \u001b[38;5;241m=\u001b[39m \u001b[43m_minimize_bfgs\u001b[49m\u001b[43m(\u001b[49m\u001b[43mfun\u001b[49m\u001b[43m,\u001b[49m\u001b[43m \u001b[49m\u001b[43mx0\u001b[49m\u001b[43m,\u001b[49m\u001b[43m \u001b[49m\u001b[43margs\u001b[49m\u001b[43m,\u001b[49m\u001b[43m \u001b[49m\u001b[43mjac\u001b[49m\u001b[43m,\u001b[49m\u001b[43m \u001b[49m\u001b[43mcallback\u001b[49m\u001b[43m,\u001b[49m\u001b[43m \u001b[49m\u001b[38;5;241;43m*\u001b[39;49m\u001b[38;5;241;43m*\u001b[39;49m\u001b[43moptions\u001b[49m\u001b[43m)\u001b[49m\n\u001b[1;32m    706\u001b[0m \u001b[38;5;28;01melif\u001b[39;00m meth \u001b[38;5;241m==\u001b[39m \u001b[38;5;124m'\u001b[39m\u001b[38;5;124mnewton-cg\u001b[39m\u001b[38;5;124m'\u001b[39m:\n\u001b[1;32m    707\u001b[0m     res \u001b[38;5;241m=\u001b[39m _minimize_newtoncg(fun, x0, args, jac, hess, hessp, callback,\n\u001b[1;32m    708\u001b[0m                              \u001b[38;5;241m*\u001b[39m\u001b[38;5;241m*\u001b[39moptions)\n",
      "File \u001b[0;32m~/miniconda3/envs/TestSDFC/lib/python3.12/site-packages/scipy/optimize/_optimize.py:1445\u001b[0m, in \u001b[0;36m_minimize_bfgs\u001b[0;34m(fun, x0, args, jac, callback, gtol, norm, eps, maxiter, disp, return_all, finite_diff_rel_step, xrtol, **unknown_options)\u001b[0m\n\u001b[1;32m   1442\u001b[0m pk \u001b[38;5;241m=\u001b[39m \u001b[38;5;241m-\u001b[39mnp\u001b[38;5;241m.\u001b[39mdot(Hk, gfk)\n\u001b[1;32m   1443\u001b[0m \u001b[38;5;28;01mtry\u001b[39;00m:\n\u001b[1;32m   1444\u001b[0m     alpha_k, fc, gc, old_fval, old_old_fval, gfkp1 \u001b[38;5;241m=\u001b[39m \\\n\u001b[0;32m-> 1445\u001b[0m              \u001b[43m_line_search_wolfe12\u001b[49m\u001b[43m(\u001b[49m\u001b[43mf\u001b[49m\u001b[43m,\u001b[49m\u001b[43m \u001b[49m\u001b[43mmyfprime\u001b[49m\u001b[43m,\u001b[49m\u001b[43m \u001b[49m\u001b[43mxk\u001b[49m\u001b[43m,\u001b[49m\u001b[43m \u001b[49m\u001b[43mpk\u001b[49m\u001b[43m,\u001b[49m\u001b[43m \u001b[49m\u001b[43mgfk\u001b[49m\u001b[43m,\u001b[49m\n\u001b[1;32m   1446\u001b[0m \u001b[43m                                  \u001b[49m\u001b[43mold_fval\u001b[49m\u001b[43m,\u001b[49m\u001b[43m \u001b[49m\u001b[43mold_old_fval\u001b[49m\u001b[43m,\u001b[49m\u001b[43m \u001b[49m\u001b[43mamin\u001b[49m\u001b[38;5;241;43m=\u001b[39;49m\u001b[38;5;241;43m1e-100\u001b[39;49m\u001b[43m,\u001b[49m\u001b[43m \u001b[49m\u001b[43mamax\u001b[49m\u001b[38;5;241;43m=\u001b[39;49m\u001b[38;5;241;43m1e100\u001b[39;49m\u001b[43m)\u001b[49m\n\u001b[1;32m   1447\u001b[0m \u001b[38;5;28;01mexcept\u001b[39;00m _LineSearchError:\n\u001b[1;32m   1448\u001b[0m     \u001b[38;5;66;03m# Line search failed to find a better solution.\u001b[39;00m\n\u001b[1;32m   1449\u001b[0m     warnflag \u001b[38;5;241m=\u001b[39m \u001b[38;5;241m2\u001b[39m\n",
      "File \u001b[0;32m~/miniconda3/envs/TestSDFC/lib/python3.12/site-packages/scipy/optimize/_optimize.py:1215\u001b[0m, in \u001b[0;36m_line_search_wolfe12\u001b[0;34m(f, fprime, xk, pk, gfk, old_fval, old_old_fval, **kwargs)\u001b[0m\n\u001b[1;32m   1201\u001b[0m \u001b[38;5;250m\u001b[39m\u001b[38;5;124;03m\"\"\"\u001b[39;00m\n\u001b[1;32m   1202\u001b[0m \u001b[38;5;124;03mSame as line_search_wolfe1, but fall back to line_search_wolfe2 if\u001b[39;00m\n\u001b[1;32m   1203\u001b[0m \u001b[38;5;124;03msuitable step length is not found, and raise an exception if a\u001b[39;00m\n\u001b[0;32m   (...)\u001b[0m\n\u001b[1;32m   1210\u001b[0m \n\u001b[1;32m   1211\u001b[0m \u001b[38;5;124;03m\"\"\"\u001b[39;00m\n\u001b[1;32m   1213\u001b[0m extra_condition \u001b[38;5;241m=\u001b[39m kwargs\u001b[38;5;241m.\u001b[39mpop(\u001b[38;5;124m'\u001b[39m\u001b[38;5;124mextra_condition\u001b[39m\u001b[38;5;124m'\u001b[39m, \u001b[38;5;28;01mNone\u001b[39;00m)\n\u001b[0;32m-> 1215\u001b[0m ret \u001b[38;5;241m=\u001b[39m \u001b[43mline_search_wolfe1\u001b[49m\u001b[43m(\u001b[49m\u001b[43mf\u001b[49m\u001b[43m,\u001b[49m\u001b[43m \u001b[49m\u001b[43mfprime\u001b[49m\u001b[43m,\u001b[49m\u001b[43m \u001b[49m\u001b[43mxk\u001b[49m\u001b[43m,\u001b[49m\u001b[43m \u001b[49m\u001b[43mpk\u001b[49m\u001b[43m,\u001b[49m\u001b[43m \u001b[49m\u001b[43mgfk\u001b[49m\u001b[43m,\u001b[49m\n\u001b[1;32m   1216\u001b[0m \u001b[43m                         \u001b[49m\u001b[43mold_fval\u001b[49m\u001b[43m,\u001b[49m\u001b[43m \u001b[49m\u001b[43mold_old_fval\u001b[49m\u001b[43m,\u001b[49m\n\u001b[1;32m   1217\u001b[0m \u001b[43m                         \u001b[49m\u001b[38;5;241;43m*\u001b[39;49m\u001b[38;5;241;43m*\u001b[39;49m\u001b[43mkwargs\u001b[49m\u001b[43m)\u001b[49m\n\u001b[1;32m   1219\u001b[0m \u001b[38;5;28;01mif\u001b[39;00m ret[\u001b[38;5;241m0\u001b[39m] \u001b[38;5;129;01mis\u001b[39;00m \u001b[38;5;129;01mnot\u001b[39;00m \u001b[38;5;28;01mNone\u001b[39;00m \u001b[38;5;129;01mand\u001b[39;00m extra_condition \u001b[38;5;129;01mis\u001b[39;00m \u001b[38;5;129;01mnot\u001b[39;00m \u001b[38;5;28;01mNone\u001b[39;00m:\n\u001b[1;32m   1220\u001b[0m     xp1 \u001b[38;5;241m=\u001b[39m xk \u001b[38;5;241m+\u001b[39m ret[\u001b[38;5;241m0\u001b[39m] \u001b[38;5;241m*\u001b[39m pk\n",
      "File \u001b[0;32m~/miniconda3/envs/TestSDFC/lib/python3.12/site-packages/scipy/optimize/_linesearch.py:84\u001b[0m, in \u001b[0;36mline_search_wolfe1\u001b[0;34m(f, fprime, xk, pk, gfk, old_fval, old_old_fval, args, c1, c2, amax, amin, xtol)\u001b[0m\n\u001b[1;32m     80\u001b[0m     \u001b[38;5;28;01mreturn\u001b[39;00m np\u001b[38;5;241m.\u001b[39mdot(gval[\u001b[38;5;241m0\u001b[39m], pk)\n\u001b[1;32m     82\u001b[0m derphi0 \u001b[38;5;241m=\u001b[39m np\u001b[38;5;241m.\u001b[39mdot(gfk, pk)\n\u001b[0;32m---> 84\u001b[0m stp, fval, old_fval \u001b[38;5;241m=\u001b[39m \u001b[43mscalar_search_wolfe1\u001b[49m\u001b[43m(\u001b[49m\n\u001b[1;32m     85\u001b[0m \u001b[43m        \u001b[49m\u001b[43mphi\u001b[49m\u001b[43m,\u001b[49m\u001b[43m \u001b[49m\u001b[43mderphi\u001b[49m\u001b[43m,\u001b[49m\u001b[43m \u001b[49m\u001b[43mold_fval\u001b[49m\u001b[43m,\u001b[49m\u001b[43m \u001b[49m\u001b[43mold_old_fval\u001b[49m\u001b[43m,\u001b[49m\u001b[43m \u001b[49m\u001b[43mderphi0\u001b[49m\u001b[43m,\u001b[49m\n\u001b[1;32m     86\u001b[0m \u001b[43m        \u001b[49m\u001b[43mc1\u001b[49m\u001b[38;5;241;43m=\u001b[39;49m\u001b[43mc1\u001b[49m\u001b[43m,\u001b[49m\u001b[43m \u001b[49m\u001b[43mc2\u001b[49m\u001b[38;5;241;43m=\u001b[39;49m\u001b[43mc2\u001b[49m\u001b[43m,\u001b[49m\u001b[43m \u001b[49m\u001b[43mamax\u001b[49m\u001b[38;5;241;43m=\u001b[39;49m\u001b[43mamax\u001b[49m\u001b[43m,\u001b[49m\u001b[43m \u001b[49m\u001b[43mamin\u001b[49m\u001b[38;5;241;43m=\u001b[39;49m\u001b[43mamin\u001b[49m\u001b[43m,\u001b[49m\u001b[43m \u001b[49m\u001b[43mxtol\u001b[49m\u001b[38;5;241;43m=\u001b[39;49m\u001b[43mxtol\u001b[49m\u001b[43m)\u001b[49m\n\u001b[1;32m     88\u001b[0m \u001b[38;5;28;01mreturn\u001b[39;00m stp, fc[\u001b[38;5;241m0\u001b[39m], gc[\u001b[38;5;241m0\u001b[39m], fval, old_fval, gval[\u001b[38;5;241m0\u001b[39m]\n",
      "File \u001b[0;32m~/miniconda3/envs/TestSDFC/lib/python3.12/site-packages/scipy/optimize/_linesearch.py:161\u001b[0m, in \u001b[0;36mscalar_search_wolfe1\u001b[0;34m(phi, derphi, phi0, old_phi0, derphi0, c1, c2, amax, amin, xtol)\u001b[0m\n\u001b[1;32m    159\u001b[0m     alpha1 \u001b[38;5;241m=\u001b[39m stp\n\u001b[1;32m    160\u001b[0m     phi1 \u001b[38;5;241m=\u001b[39m phi(stp)\n\u001b[0;32m--> 161\u001b[0m     derphi1 \u001b[38;5;241m=\u001b[39m \u001b[43mderphi\u001b[49m\u001b[43m(\u001b[49m\u001b[43mstp\u001b[49m\u001b[43m)\u001b[49m\n\u001b[1;32m    162\u001b[0m \u001b[38;5;28;01melse\u001b[39;00m:\n\u001b[1;32m    163\u001b[0m     \u001b[38;5;28;01mbreak\u001b[39;00m\n",
      "File \u001b[0;32m~/miniconda3/envs/TestSDFC/lib/python3.12/site-packages/scipy/optimize/_linesearch.py:78\u001b[0m, in \u001b[0;36mline_search_wolfe1.<locals>.derphi\u001b[0;34m(s)\u001b[0m\n\u001b[1;32m     77\u001b[0m \u001b[38;5;28;01mdef\u001b[39;00m \u001b[38;5;21mderphi\u001b[39m(s):\n\u001b[0;32m---> 78\u001b[0m     gval[\u001b[38;5;241m0\u001b[39m] \u001b[38;5;241m=\u001b[39m \u001b[43mfprime\u001b[49m\u001b[43m(\u001b[49m\u001b[43mxk\u001b[49m\u001b[43m \u001b[49m\u001b[38;5;241;43m+\u001b[39;49m\u001b[43m \u001b[49m\u001b[43ms\u001b[49m\u001b[38;5;241;43m*\u001b[39;49m\u001b[43mpk\u001b[49m\u001b[43m,\u001b[49m\u001b[43m \u001b[49m\u001b[38;5;241;43m*\u001b[39;49m\u001b[43margs\u001b[49m\u001b[43m)\u001b[49m\n\u001b[1;32m     79\u001b[0m     gc[\u001b[38;5;241m0\u001b[39m] \u001b[38;5;241m+\u001b[39m\u001b[38;5;241m=\u001b[39m \u001b[38;5;241m1\u001b[39m\n\u001b[1;32m     80\u001b[0m     \u001b[38;5;28;01mreturn\u001b[39;00m np\u001b[38;5;241m.\u001b[39mdot(gval[\u001b[38;5;241m0\u001b[39m], pk)\n",
      "File \u001b[0;32m~/miniconda3/envs/TestSDFC/lib/python3.12/site-packages/scipy/optimize/_differentiable_functions.py:273\u001b[0m, in \u001b[0;36mScalarFunction.grad\u001b[0;34m(self, x)\u001b[0m\n\u001b[1;32m    271\u001b[0m \u001b[38;5;28;01mif\u001b[39;00m \u001b[38;5;129;01mnot\u001b[39;00m np\u001b[38;5;241m.\u001b[39marray_equal(x, \u001b[38;5;28mself\u001b[39m\u001b[38;5;241m.\u001b[39mx):\n\u001b[1;32m    272\u001b[0m     \u001b[38;5;28mself\u001b[39m\u001b[38;5;241m.\u001b[39m_update_x_impl(x)\n\u001b[0;32m--> 273\u001b[0m \u001b[38;5;28;43mself\u001b[39;49m\u001b[38;5;241;43m.\u001b[39;49m\u001b[43m_update_grad\u001b[49m\u001b[43m(\u001b[49m\u001b[43m)\u001b[49m\n\u001b[1;32m    274\u001b[0m \u001b[38;5;28;01mreturn\u001b[39;00m \u001b[38;5;28mself\u001b[39m\u001b[38;5;241m.\u001b[39mg\n",
      "File \u001b[0;32m~/miniconda3/envs/TestSDFC/lib/python3.12/site-packages/scipy/optimize/_differentiable_functions.py:256\u001b[0m, in \u001b[0;36mScalarFunction._update_grad\u001b[0;34m(self)\u001b[0m\n\u001b[1;32m    254\u001b[0m \u001b[38;5;28;01mdef\u001b[39;00m \u001b[38;5;21m_update_grad\u001b[39m(\u001b[38;5;28mself\u001b[39m):\n\u001b[1;32m    255\u001b[0m     \u001b[38;5;28;01mif\u001b[39;00m \u001b[38;5;129;01mnot\u001b[39;00m \u001b[38;5;28mself\u001b[39m\u001b[38;5;241m.\u001b[39mg_updated:\n\u001b[0;32m--> 256\u001b[0m         \u001b[38;5;28;43mself\u001b[39;49m\u001b[38;5;241;43m.\u001b[39;49m\u001b[43m_update_grad_impl\u001b[49m\u001b[43m(\u001b[49m\u001b[43m)\u001b[49m\n\u001b[1;32m    257\u001b[0m         \u001b[38;5;28mself\u001b[39m\u001b[38;5;241m.\u001b[39mg_updated \u001b[38;5;241m=\u001b[39m \u001b[38;5;28;01mTrue\u001b[39;00m\n",
      "File \u001b[0;32m~/miniconda3/envs/TestSDFC/lib/python3.12/site-packages/scipy/optimize/_differentiable_functions.py:167\u001b[0m, in \u001b[0;36mScalarFunction.__init__.<locals>.update_grad\u001b[0;34m()\u001b[0m\n\u001b[1;32m    166\u001b[0m \u001b[38;5;28;01mdef\u001b[39;00m \u001b[38;5;21mupdate_grad\u001b[39m():\n\u001b[0;32m--> 167\u001b[0m     \u001b[38;5;28mself\u001b[39m\u001b[38;5;241m.\u001b[39mg \u001b[38;5;241m=\u001b[39m \u001b[43mgrad_wrapped\u001b[49m\u001b[43m(\u001b[49m\u001b[38;5;28;43mself\u001b[39;49m\u001b[38;5;241;43m.\u001b[39;49m\u001b[43mx\u001b[49m\u001b[43m)\u001b[49m\n",
      "File \u001b[0;32m~/miniconda3/envs/TestSDFC/lib/python3.12/site-packages/scipy/optimize/_differentiable_functions.py:164\u001b[0m, in \u001b[0;36mScalarFunction.__init__.<locals>.grad_wrapped\u001b[0;34m(x)\u001b[0m\n\u001b[1;32m    162\u001b[0m \u001b[38;5;28;01mdef\u001b[39;00m \u001b[38;5;21mgrad_wrapped\u001b[39m(x):\n\u001b[1;32m    163\u001b[0m     \u001b[38;5;28mself\u001b[39m\u001b[38;5;241m.\u001b[39mngev \u001b[38;5;241m+\u001b[39m\u001b[38;5;241m=\u001b[39m \u001b[38;5;241m1\u001b[39m\n\u001b[0;32m--> 164\u001b[0m     \u001b[38;5;28;01mreturn\u001b[39;00m np\u001b[38;5;241m.\u001b[39matleast_1d(\u001b[43mgrad\u001b[49m\u001b[43m(\u001b[49m\u001b[43mnp\u001b[49m\u001b[38;5;241;43m.\u001b[39;49m\u001b[43mcopy\u001b[49m\u001b[43m(\u001b[49m\u001b[43mx\u001b[49m\u001b[43m)\u001b[49m\u001b[43m,\u001b[49m\u001b[43m \u001b[49m\u001b[38;5;241;43m*\u001b[39;49m\u001b[43margs\u001b[49m\u001b[43m)\u001b[49m)\n",
      "File \u001b[0;32m~/Documents/05_Autres Activités/2023_11_Transfert_Code_Yoann/SDFC-python/SDFC/__GEV.py:333\u001b[0m, in \u001b[0;36mGEV._gradient_nlll\u001b[0;34m(self, coef)\u001b[0m\n\u001b[1;32m    332\u001b[0m \u001b[38;5;28;01mdef\u001b[39;00m \u001b[38;5;21m_gradient_nlll\u001b[39m( \u001b[38;5;28mself\u001b[39m , coef ): \u001b[38;5;66;03m##{{{\u001b[39;00m\n\u001b[0;32m--> 333\u001b[0m \t\u001b[38;5;28;43mself\u001b[39;49m\u001b[38;5;241;43m.\u001b[39;49m\u001b[43mcoef_\u001b[49m \u001b[38;5;241m=\u001b[39m coef\n\u001b[1;32m    335\u001b[0m \t\u001b[38;5;66;03m## Parameters\u001b[39;00m\n\u001b[1;32m    336\u001b[0m \tdshape \u001b[38;5;241m=\u001b[39m \u001b[38;5;28mself\u001b[39m\u001b[38;5;241m.\u001b[39m_Y\u001b[38;5;241m.\u001b[39mshape\n",
      "File \u001b[0;32m~/Documents/05_Autres Activités/2023_11_Transfert_Code_Yoann/SDFC-python/SDFC/__AbstractLaw.py:199\u001b[0m, in \u001b[0;36mAbstractLaw.coef_\u001b[0;34m(self, coef_)\u001b[0m\n\u001b[1;32m    197\u001b[0m \u001b[38;5;129m@coef_\u001b[39m\u001b[38;5;241m.\u001b[39msetter\n\u001b[1;32m    198\u001b[0m \u001b[38;5;28;01mdef\u001b[39;00m \u001b[38;5;21mcoef_\u001b[39m( \u001b[38;5;28mself\u001b[39m , coef_ ): \u001b[38;5;66;03m##{{{\u001b[39;00m\n\u001b[0;32m--> 199\u001b[0m \t\u001b[38;5;28;43mself\u001b[39;49m\u001b[38;5;241;43m.\u001b[39;49m\u001b[43m_rhs\u001b[49m\u001b[38;5;241;43m.\u001b[39;49m\u001b[43mcoef_\u001b[49m \u001b[38;5;241m=\u001b[39m coef_\n",
      "File \u001b[0;32m~/Documents/05_Autres Activités/2023_11_Transfert_Code_Yoann/SDFC-python/SDFC/core/__RHS.py:127\u001b[0m, in \u001b[0;36mRHS.coef_\u001b[0;34m(self, coef_)\u001b[0m\n\u001b[1;32m    124\u001b[0m \u001b[38;5;129m@coef_\u001b[39m\u001b[38;5;241m.\u001b[39msetter\n\u001b[1;32m    125\u001b[0m \u001b[38;5;28;01mdef\u001b[39;00m \u001b[38;5;21mcoef_\u001b[39m( \u001b[38;5;28mself\u001b[39m , coef_ ):\n\u001b[1;32m    126\u001b[0m \t\u001b[38;5;28mself\u001b[39m\u001b[38;5;241m.\u001b[39m_coef_         \u001b[38;5;241m=\u001b[39m np\u001b[38;5;241m.\u001b[39marray( [coef_] )\u001b[38;5;241m.\u001b[39msqueeze()\u001b[38;5;241m.\u001b[39mreshape(\u001b[38;5;241m-\u001b[39m\u001b[38;5;241m1\u001b[39m)\n\u001b[0;32m--> 127\u001b[0m \t\u001b[38;5;28mself\u001b[39m\u001b[38;5;241m.\u001b[39mlhs_\u001b[38;5;241m.\u001b[39mvalues_   \u001b[38;5;241m=\u001b[39m \u001b[38;5;28;43mself\u001b[39;49m\u001b[38;5;241;43m.\u001b[39;49m\u001b[43ml_global\u001b[49m\u001b[38;5;241;43m.\u001b[39;49m\u001b[43mtransform\u001b[49m\u001b[43m(\u001b[49m\u001b[43m \u001b[49m\u001b[38;5;28;43mself\u001b[39;49m\u001b[38;5;241;43m.\u001b[39;49m\u001b[43mcoef_\u001b[49m\u001b[43m \u001b[49m\u001b[43m,\u001b[49m\u001b[43m \u001b[49m\u001b[38;5;28;43mself\u001b[39;49m\u001b[38;5;241;43m.\u001b[39;49m\u001b[43mc_global\u001b[49m\u001b[43m \u001b[49m\u001b[43m)\u001b[49m\n\u001b[1;32m    128\u001b[0m \t\u001b[38;5;28mself\u001b[39m\u001b[38;5;241m.\u001b[39mlhs_\u001b[38;5;241m.\u001b[39mjacobian_ \u001b[38;5;241m=\u001b[39m \u001b[38;5;28mself\u001b[39m\u001b[38;5;241m.\u001b[39ml_global\u001b[38;5;241m.\u001b[39mjacobian( \u001b[38;5;28mself\u001b[39m\u001b[38;5;241m.\u001b[39mcoef_ , \u001b[38;5;28mself\u001b[39m\u001b[38;5;241m.\u001b[39mc_global )\n",
      "File \u001b[0;32m~/Documents/05_Autres Activités/2023_11_Transfert_Code_Yoann/SDFC-python/SDFC/link/__Multivariate.py:152\u001b[0m, in \u001b[0;36mMLTensor.transform\u001b[0;34m(self, coef, X)\u001b[0m\n\u001b[1;32m    150\u001b[0m \u001b[38;5;28;01mfor\u001b[39;00m s,l,x \u001b[38;5;129;01min\u001b[39;00m \u001b[38;5;28mzip\u001b[39m(\u001b[38;5;28mself\u001b[39m\u001b[38;5;241m.\u001b[39m_s_p,\u001b[38;5;28mself\u001b[39m\u001b[38;5;241m.\u001b[39m_l_p,X):\n\u001b[1;32m    151\u001b[0m \tie \u001b[38;5;241m+\u001b[39m\u001b[38;5;241m=\u001b[39m s\n\u001b[0;32m--> 152\u001b[0m \tlist_p\u001b[38;5;241m.\u001b[39mappend( \u001b[43ml\u001b[49m\u001b[38;5;241;43m.\u001b[39;49m\u001b[43mtransform\u001b[49m\u001b[43m(\u001b[49m\u001b[43m \u001b[49m\u001b[43mcoef\u001b[49m\u001b[43m[\u001b[49m\u001b[43mib\u001b[49m\u001b[43m:\u001b[49m\u001b[43mie\u001b[49m\u001b[43m]\u001b[49m\u001b[43m \u001b[49m\u001b[43m,\u001b[49m\u001b[43m \u001b[49m\u001b[43mx\u001b[49m\u001b[43m \u001b[49m\u001b[43m)\u001b[49m )\n\u001b[1;32m    153\u001b[0m \tib \u001b[38;5;241m+\u001b[39m\u001b[38;5;241m=\u001b[39m s\n\u001b[1;32m    154\u001b[0m \u001b[38;5;28;01mreturn\u001b[39;00m list_p\n",
      "File \u001b[0;32m~/Documents/05_Autres Activités/2023_11_Transfert_Code_Yoann/SDFC-python/SDFC/link/__Multivariate.py:117\u001b[0m, in \u001b[0;36mMLLinear.transform\u001b[0;34m(self, coef, X)\u001b[0m\n\u001b[1;32m    116\u001b[0m \u001b[38;5;28;01mdef\u001b[39;00m \u001b[38;5;21mtransform\u001b[39m( \u001b[38;5;28mself\u001b[39m , coef , X ):\u001b[38;5;66;03m##{{{\u001b[39;00m\n\u001b[0;32m--> 117\u001b[0m \tout \u001b[38;5;241m=\u001b[39m \u001b[38;5;28;43mself\u001b[39;49m\u001b[38;5;241;43m.\u001b[39;49m\u001b[43m_l\u001b[49m\u001b[38;5;241;43m.\u001b[39;49m\u001b[43mtransform\u001b[49m\u001b[43m(\u001b[49m\u001b[43m \u001b[49m\u001b[38;5;28;43mself\u001b[39;49m\u001b[38;5;241;43m.\u001b[39;49m\u001b[43m_linear_transform\u001b[49m\u001b[43m(\u001b[49m\u001b[43mcoef\u001b[49m\u001b[43m,\u001b[49m\u001b[43mX\u001b[49m\u001b[43m)\u001b[49m\u001b[43m \u001b[49m\u001b[43m)\u001b[49m\n\u001b[1;32m    118\u001b[0m \t\u001b[38;5;28;01mreturn\u001b[39;00m out\n",
      "File \u001b[0;32m~/Documents/05_Autres Activités/2023_11_Transfert_Code_Yoann/SDFC-python/SDFC/link/__Univariate.py:59\u001b[0m, in \u001b[0;36mULIdentity.transform\u001b[0;34m(self, x)\u001b[0m\n\u001b[1;32m     56\u001b[0m \u001b[38;5;28;01mdef\u001b[39;00m \u001b[38;5;21m__init__\u001b[39m( \u001b[38;5;28mself\u001b[39m ):\n\u001b[1;32m     57\u001b[0m \tUnivariateLink\u001b[38;5;241m.\u001b[39m\u001b[38;5;21m__init__\u001b[39m(\u001b[38;5;28mself\u001b[39m)\n\u001b[0;32m---> 59\u001b[0m \u001b[38;5;28;01mdef\u001b[39;00m \u001b[38;5;21mtransform\u001b[39m( \u001b[38;5;28mself\u001b[39m , x ):\n\u001b[1;32m     60\u001b[0m \t\u001b[38;5;28;01mreturn\u001b[39;00m x\n\u001b[1;32m     62\u001b[0m \u001b[38;5;28;01mdef\u001b[39;00m \u001b[38;5;21minverse\u001b[39m( \u001b[38;5;28mself\u001b[39m , x ):\n",
      "\u001b[0;31mKeyboardInterrupt\u001b[0m: "
     ]
    }
   ],
   "source": [
    "## Prior Functions (Yoann this is so slow)\n",
    "##================================\n",
    "n_sample    = 10000\n",
    "t0 = tm.time()\n",
    "clim = ns.Climatology( event , time_period , models ,n_sample  , ns_law )\n",
    "Xebm   = ns.EBM().draw_sample( clim.time , n_sample + 1 , fix_first = 0 )\n",
    "clim =ns.covariates_FC_GAM( clim , lX ,  Xebm , dof = 7 , verbose = False )\n",
    "clim = ns.nslaw_fit( lY , clim , verbose = verbose ) \n",
    "clim = ns.infer_multi_model( clim , verbose = verbose )\n",
    "## Add constraint on X\n",
    "clim_light_MM = clim.copy()\n",
    "clim_light_MM.keep_models( \"Multi_Synthesis\" )\n",
    "clim_CX     = ns.constrain_covariate( clim_light_MM , Xo , time_reference , verbose = verbose )\n",
    "t1 = tm.time()\n",
    "total = t1-t0\n",
    "clim_CX.to_netcdf( \"clim_CX_test_\"+str(n_sample)+\".nc\")\n",
    "print(total)"
   ]
  },
  {
   "cell_type": "code",
   "execution_count": null,
   "id": "64b55ab1",
   "metadata": {},
   "outputs": [],
   "source": [
    "#Original\n",
    "clim_CX=ns.Climatology.from_netcdf(  \"clim_CX_test_\"+str(n_sample)+\".nc\" , ns_law )\n",
    "t0 = tm.time()\n",
    "bayes_kwargs = { \"n_mcmc_drawn_min\" :  5000 , \"n_mcmc_drawn_max\" : 10000 }\n",
    "bayes_kwargs[\"transition_type\"]=\"Fixed\"\n",
    "bayes_kwargs[\"fixed_cov\"]=np.array([0.1,0.1,0.1,0.1,0.1])\n",
    "climCXCB   = ns.constrain_law( clim_CX , Yo , verbose = verbose , **bayes_kwargs )\n",
    "t1 = tm.time()\n",
    "total = t1-t0\n",
    "print(total)"
   ]
  },
  {
   "cell_type": "code",
   "execution_count": null,
   "id": "d1c738f9",
   "metadata": {},
   "outputs": [],
   "source": []
  }
 ],
 "metadata": {
  "kernelspec": {
   "display_name": "TestSDFC",
   "language": "python",
   "name": "testsdfc"
  },
  "language_info": {
   "codemirror_mode": {
    "name": "ipython",
    "version": 3
   },
   "file_extension": ".py",
   "mimetype": "text/x-python",
   "name": "python",
   "nbconvert_exporter": "python",
   "pygments_lexer": "ipython3",
   "version": "3.12.0"
  }
 },
 "nbformat": 4,
 "nbformat_minor": 5
}
